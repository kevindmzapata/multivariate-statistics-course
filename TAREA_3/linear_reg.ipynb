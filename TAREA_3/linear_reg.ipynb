{
 "cells": [
  {
   "cell_type": "code",
   "execution_count": 222,
   "metadata": {},
   "outputs": [],
   "source": [
    "import numpy as np\n",
    "import pandas as pd\n",
    "import matplotlib.pyplot as plt\n",
    "import seaborn as sns"
   ]
  },
  {
   "cell_type": "code",
   "execution_count": 223,
   "metadata": {},
   "outputs": [],
   "source": [
    "def date_to_semester_fraction(date):\n",
    "    day, month, year = map(int, date.split('/'))\n",
    "    days_in_month = [31, 28, 31, 30, 31, 30]\n",
    "    day_of_year = sum(days_in_month[:month - 1]) + day\n",
    "    return day_of_year / 182"
   ]
  },
  {
   "cell_type": "code",
   "execution_count": 224,
   "metadata": {},
   "outputs": [
    {
     "name": "stdout",
     "output_type": "stream",
     "text": [
      "<class 'pandas.core.frame.DataFrame'>\n",
      "Index: 256869 entries, 0 to 260639\n",
      "Data columns (total 9 columns):\n",
      " #   Column                 Non-Null Count   Dtype  \n",
      "---  ------                 --------------   -----  \n",
      " 0   Global_active_power    256869 non-null  object \n",
      " 1   Global_reactive_power  256869 non-null  object \n",
      " 2   Voltage                256869 non-null  object \n",
      " 3   Global_intensity       256869 non-null  object \n",
      " 4   Sub_metering_1         256869 non-null  object \n",
      " 5   Sub_metering_2         256869 non-null  object \n",
      " 6   Sub_metering_3         256869 non-null  float64\n",
      " 7   day_frac               256869 non-null  float64\n",
      " 8   semester_frac          256869 non-null  float64\n",
      "dtypes: float64(3), object(6)\n",
      "memory usage: 19.6+ MB\n"
     ]
    }
   ],
   "source": [
    "df = pd.read_csv('household_power_consumption.csv')\n",
    "df = df.replace('?', np.nan)\n",
    "df = df.dropna()\n",
    "df['day_frac'] = df['Time'].apply(lambda x: (int(x.split(':')[0]) * 3600 + int(x.split(':')[1]) * 60 + int(x.split(':')[2])) / 86400)\n",
    "df['semester_frac'] = df['Date'].apply(date_to_semester_fraction)\n",
    "df = df.drop(['index', 'Date', 'Time'], axis=1)\n",
    "df.info()"
   ]
  },
  {
   "cell_type": "code",
   "execution_count": 225,
   "metadata": {},
   "outputs": [
    {
     "name": "stdout",
     "output_type": "stream",
     "text": [
      "<class 'pandas.core.frame.DataFrame'>\n",
      "Index: 256869 entries, 0 to 260639\n",
      "Data columns (total 9 columns):\n",
      " #   Column                 Non-Null Count   Dtype  \n",
      "---  ------                 --------------   -----  \n",
      " 0   Global_active_power    256869 non-null  float64\n",
      " 1   Global_reactive_power  256869 non-null  float64\n",
      " 2   Voltage                256869 non-null  float64\n",
      " 3   Global_intensity       256869 non-null  float64\n",
      " 4   Sub_metering_1         256869 non-null  float64\n",
      " 5   Sub_metering_2         256869 non-null  float64\n",
      " 6   Sub_metering_3         256869 non-null  float64\n",
      " 7   day_frac               256869 non-null  float64\n",
      " 8   semester_frac          256869 non-null  float64\n",
      "dtypes: float64(9)\n",
      "memory usage: 19.6 MB\n"
     ]
    }
   ],
   "source": [
    "for col in df.columns:\n",
    "    df[col] = df[col].astype(float)\n",
    "    \n",
    "df.info()"
   ]
  },
  {
   "cell_type": "code",
   "execution_count": 226,
   "metadata": {},
   "outputs": [],
   "source": [
    "df['Global_apparent_power'] = np.sqrt(df['Global_active_power'] ** 2 + df['Global_reactive_power'] ** 2)\n",
    "df.drop(['Global_active_power', 'Global_reactive_power'], axis=1, inplace=True)"
   ]
  },
  {
   "cell_type": "code",
   "execution_count": 227,
   "metadata": {},
   "outputs": [
    {
     "data": {
      "text/html": [
       "<div>\n",
       "<style scoped>\n",
       "    .dataframe tbody tr th:only-of-type {\n",
       "        vertical-align: middle;\n",
       "    }\n",
       "\n",
       "    .dataframe tbody tr th {\n",
       "        vertical-align: top;\n",
       "    }\n",
       "\n",
       "    .dataframe thead th {\n",
       "        text-align: right;\n",
       "    }\n",
       "</style>\n",
       "<table border=\"1\" class=\"dataframe\">\n",
       "  <thead>\n",
       "    <tr style=\"text-align: right;\">\n",
       "      <th></th>\n",
       "      <th>Voltage</th>\n",
       "      <th>Global_intensity</th>\n",
       "      <th>Sub_metering_1</th>\n",
       "      <th>Sub_metering_2</th>\n",
       "      <th>Sub_metering_3</th>\n",
       "      <th>day_frac</th>\n",
       "      <th>semester_frac</th>\n",
       "      <th>Global_apparent_power</th>\n",
       "    </tr>\n",
       "  </thead>\n",
       "  <tbody>\n",
       "    <tr>\n",
       "      <th>0</th>\n",
       "      <td>241.97</td>\n",
       "      <td>10.6</td>\n",
       "      <td>0.0</td>\n",
       "      <td>0.0</td>\n",
       "      <td>0.0</td>\n",
       "      <td>0.000000</td>\n",
       "      <td>0.005495</td>\n",
       "      <td>2.583582</td>\n",
       "    </tr>\n",
       "    <tr>\n",
       "      <th>1</th>\n",
       "      <td>241.75</td>\n",
       "      <td>10.4</td>\n",
       "      <td>0.0</td>\n",
       "      <td>0.0</td>\n",
       "      <td>0.0</td>\n",
       "      <td>0.000694</td>\n",
       "      <td>0.005495</td>\n",
       "      <td>2.553958</td>\n",
       "    </tr>\n",
       "    <tr>\n",
       "      <th>2</th>\n",
       "      <td>241.64</td>\n",
       "      <td>10.4</td>\n",
       "      <td>0.0</td>\n",
       "      <td>0.0</td>\n",
       "      <td>0.0</td>\n",
       "      <td>0.001389</td>\n",
       "      <td>0.005495</td>\n",
       "      <td>2.551960</td>\n",
       "    </tr>\n",
       "    <tr>\n",
       "      <th>3</th>\n",
       "      <td>241.71</td>\n",
       "      <td>10.4</td>\n",
       "      <td>0.0</td>\n",
       "      <td>0.0</td>\n",
       "      <td>0.0</td>\n",
       "      <td>0.002083</td>\n",
       "      <td>0.005495</td>\n",
       "      <td>2.551960</td>\n",
       "    </tr>\n",
       "    <tr>\n",
       "      <th>4</th>\n",
       "      <td>241.98</td>\n",
       "      <td>10.4</td>\n",
       "      <td>0.0</td>\n",
       "      <td>0.0</td>\n",
       "      <td>0.0</td>\n",
       "      <td>0.002778</td>\n",
       "      <td>0.005495</td>\n",
       "      <td>2.555957</td>\n",
       "    </tr>\n",
       "    <tr>\n",
       "      <th>...</th>\n",
       "      <td>...</td>\n",
       "      <td>...</td>\n",
       "      <td>...</td>\n",
       "      <td>...</td>\n",
       "      <td>...</td>\n",
       "      <td>...</td>\n",
       "      <td>...</td>\n",
       "      <td>...</td>\n",
       "    </tr>\n",
       "    <tr>\n",
       "      <th>260635</th>\n",
       "      <td>239.01</td>\n",
       "      <td>12.0</td>\n",
       "      <td>0.0</td>\n",
       "      <td>0.0</td>\n",
       "      <td>18.0</td>\n",
       "      <td>0.996528</td>\n",
       "      <td>0.994505</td>\n",
       "      <td>2.902413</td>\n",
       "    </tr>\n",
       "    <tr>\n",
       "      <th>260636</th>\n",
       "      <td>238.86</td>\n",
       "      <td>12.2</td>\n",
       "      <td>0.0</td>\n",
       "      <td>0.0</td>\n",
       "      <td>17.0</td>\n",
       "      <td>0.997222</td>\n",
       "      <td>0.994505</td>\n",
       "      <td>2.914074</td>\n",
       "    </tr>\n",
       "    <tr>\n",
       "      <th>260637</th>\n",
       "      <td>239.05</td>\n",
       "      <td>12.0</td>\n",
       "      <td>0.0</td>\n",
       "      <td>0.0</td>\n",
       "      <td>18.0</td>\n",
       "      <td>0.997917</td>\n",
       "      <td>0.994505</td>\n",
       "      <td>2.895570</td>\n",
       "    </tr>\n",
       "    <tr>\n",
       "      <th>260638</th>\n",
       "      <td>238.98</td>\n",
       "      <td>11.2</td>\n",
       "      <td>0.0</td>\n",
       "      <td>0.0</td>\n",
       "      <td>18.0</td>\n",
       "      <td>0.998611</td>\n",
       "      <td>0.994505</td>\n",
       "      <td>2.675762</td>\n",
       "    </tr>\n",
       "    <tr>\n",
       "      <th>260639</th>\n",
       "      <td>239.25</td>\n",
       "      <td>10.6</td>\n",
       "      <td>0.0</td>\n",
       "      <td>1.0</td>\n",
       "      <td>17.0</td>\n",
       "      <td>0.999306</td>\n",
       "      <td>0.994505</td>\n",
       "      <td>2.572474</td>\n",
       "    </tr>\n",
       "  </tbody>\n",
       "</table>\n",
       "<p>256869 rows × 8 columns</p>\n",
       "</div>"
      ],
      "text/plain": [
       "        Voltage  Global_intensity  Sub_metering_1  Sub_metering_2  \\\n",
       "0        241.97              10.6             0.0             0.0   \n",
       "1        241.75              10.4             0.0             0.0   \n",
       "2        241.64              10.4             0.0             0.0   \n",
       "3        241.71              10.4             0.0             0.0   \n",
       "4        241.98              10.4             0.0             0.0   \n",
       "...         ...               ...             ...             ...   \n",
       "260635   239.01              12.0             0.0             0.0   \n",
       "260636   238.86              12.2             0.0             0.0   \n",
       "260637   239.05              12.0             0.0             0.0   \n",
       "260638   238.98              11.2             0.0             0.0   \n",
       "260639   239.25              10.6             0.0             1.0   \n",
       "\n",
       "        Sub_metering_3  day_frac  semester_frac  Global_apparent_power  \n",
       "0                  0.0  0.000000       0.005495               2.583582  \n",
       "1                  0.0  0.000694       0.005495               2.553958  \n",
       "2                  0.0  0.001389       0.005495               2.551960  \n",
       "3                  0.0  0.002083       0.005495               2.551960  \n",
       "4                  0.0  0.002778       0.005495               2.555957  \n",
       "...                ...       ...            ...                    ...  \n",
       "260635            18.0  0.996528       0.994505               2.902413  \n",
       "260636            17.0  0.997222       0.994505               2.914074  \n",
       "260637            18.0  0.997917       0.994505               2.895570  \n",
       "260638            18.0  0.998611       0.994505               2.675762  \n",
       "260639            17.0  0.999306       0.994505               2.572474  \n",
       "\n",
       "[256869 rows x 8 columns]"
      ]
     },
     "execution_count": 227,
     "metadata": {},
     "output_type": "execute_result"
    }
   ],
   "source": [
    "df"
   ]
  },
  {
   "cell_type": "code",
   "execution_count": 228,
   "metadata": {},
   "outputs": [
    {
     "data": {
      "text/plain": [
       "((256869, 7), (256869,))"
      ]
     },
     "execution_count": 228,
     "metadata": {},
     "output_type": "execute_result"
    }
   ],
   "source": [
    "y = df['Global_apparent_power'].to_numpy()\n",
    "X = df.drop('Global_apparent_power', axis=1).to_numpy()\n",
    "\n",
    "X.shape, y.shape"
   ]
  },
  {
   "cell_type": "code",
   "execution_count": 229,
   "metadata": {},
   "outputs": [],
   "source": [
    "from sklearn.linear_model import Lasso\n",
    "from sklearn.model_selection import KFold\n",
    "\n",
    "kf = KFold(n_splits=5, shuffle=True)\n",
    "kf_scores = pd.DataFrame(columns=['alpha', 'max_iter', 'tol', 'mae', 'n_zeros'])\n",
    "\n",
    "for alpha in [0.00001, 0.0001, 0.001, 0.01, 0.1, 1.0]:\n",
    "    for max_iter in [100, 1000, 10000]:\n",
    "        for tol in [1e-1, 1e-2, 1e-3, 1e-4, 1e-5, 1e-6, 1e-7, 1e-8]:\n",
    "            scores = []\n",
    "            for train_index, test_index in kf.split(X):\n",
    "                X_train, X_test = X[train_index], X[test_index]\n",
    "                y_train, y_test = y[train_index], y[test_index]\n",
    "                model = Lasso(alpha=alpha, max_iter=max_iter, tol=tol)\n",
    "                model.fit(X_train, y_train)\n",
    "                preds = model.predict(X_test)\n",
    "                mae = np.mean(np.abs(preds - y_test))\n",
    "                scores.append(mae)\n",
    "                n_zeros = np.sum(model.coef_ == 0).astype(int)\n",
    "            kf_scores.loc[len(kf_scores)] = [alpha, max_iter, tol, np.mean(scores), n_zeros]"
   ]
  },
  {
   "cell_type": "code",
   "execution_count": 230,
   "metadata": {},
   "outputs": [
    {
     "data": {
      "text/html": [
       "<div>\n",
       "<style scoped>\n",
       "    .dataframe tbody tr th:only-of-type {\n",
       "        vertical-align: middle;\n",
       "    }\n",
       "\n",
       "    .dataframe tbody tr th {\n",
       "        vertical-align: top;\n",
       "    }\n",
       "\n",
       "    .dataframe thead th {\n",
       "        text-align: right;\n",
       "    }\n",
       "</style>\n",
       "<table border=\"1\" class=\"dataframe\">\n",
       "  <thead>\n",
       "    <tr style=\"text-align: right;\">\n",
       "      <th></th>\n",
       "      <th>alpha</th>\n",
       "      <th>max_iter</th>\n",
       "      <th>tol</th>\n",
       "      <th>mae</th>\n",
       "      <th>n_zeros</th>\n",
       "    </tr>\n",
       "  </thead>\n",
       "  <tbody>\n",
       "    <tr>\n",
       "      <th>23</th>\n",
       "      <td>0.00001</td>\n",
       "      <td>10000.0</td>\n",
       "      <td>1.000000e-08</td>\n",
       "      <td>0.026435</td>\n",
       "      <td>0.0</td>\n",
       "    </tr>\n",
       "    <tr>\n",
       "      <th>6</th>\n",
       "      <td>0.00001</td>\n",
       "      <td>100.0</td>\n",
       "      <td>1.000000e-07</td>\n",
       "      <td>0.026435</td>\n",
       "      <td>0.0</td>\n",
       "    </tr>\n",
       "    <tr>\n",
       "      <th>13</th>\n",
       "      <td>0.00001</td>\n",
       "      <td>1000.0</td>\n",
       "      <td>1.000000e-06</td>\n",
       "      <td>0.026435</td>\n",
       "      <td>0.0</td>\n",
       "    </tr>\n",
       "    <tr>\n",
       "      <th>22</th>\n",
       "      <td>0.00001</td>\n",
       "      <td>10000.0</td>\n",
       "      <td>1.000000e-07</td>\n",
       "      <td>0.026435</td>\n",
       "      <td>0.0</td>\n",
       "    </tr>\n",
       "    <tr>\n",
       "      <th>7</th>\n",
       "      <td>0.00001</td>\n",
       "      <td>100.0</td>\n",
       "      <td>1.000000e-08</td>\n",
       "      <td>0.026435</td>\n",
       "      <td>0.0</td>\n",
       "    </tr>\n",
       "    <tr>\n",
       "      <th>...</th>\n",
       "      <td>...</td>\n",
       "      <td>...</td>\n",
       "      <td>...</td>\n",
       "      <td>...</td>\n",
       "      <td>...</td>\n",
       "    </tr>\n",
       "    <tr>\n",
       "      <th>135</th>\n",
       "      <td>1.00000</td>\n",
       "      <td>1000.0</td>\n",
       "      <td>1.000000e-08</td>\n",
       "      <td>0.159742</td>\n",
       "      <td>5.0</td>\n",
       "    </tr>\n",
       "    <tr>\n",
       "      <th>141</th>\n",
       "      <td>1.00000</td>\n",
       "      <td>10000.0</td>\n",
       "      <td>1.000000e-06</td>\n",
       "      <td>0.159742</td>\n",
       "      <td>5.0</td>\n",
       "    </tr>\n",
       "    <tr>\n",
       "      <th>125</th>\n",
       "      <td>1.00000</td>\n",
       "      <td>100.0</td>\n",
       "      <td>1.000000e-06</td>\n",
       "      <td>0.159743</td>\n",
       "      <td>5.0</td>\n",
       "    </tr>\n",
       "    <tr>\n",
       "      <th>132</th>\n",
       "      <td>1.00000</td>\n",
       "      <td>1000.0</td>\n",
       "      <td>1.000000e-05</td>\n",
       "      <td>0.159743</td>\n",
       "      <td>5.0</td>\n",
       "    </tr>\n",
       "    <tr>\n",
       "      <th>140</th>\n",
       "      <td>1.00000</td>\n",
       "      <td>10000.0</td>\n",
       "      <td>1.000000e-05</td>\n",
       "      <td>0.159743</td>\n",
       "      <td>5.0</td>\n",
       "    </tr>\n",
       "  </tbody>\n",
       "</table>\n",
       "<p>144 rows × 5 columns</p>\n",
       "</div>"
      ],
      "text/plain": [
       "       alpha  max_iter           tol       mae  n_zeros\n",
       "23   0.00001   10000.0  1.000000e-08  0.026435      0.0\n",
       "6    0.00001     100.0  1.000000e-07  0.026435      0.0\n",
       "13   0.00001    1000.0  1.000000e-06  0.026435      0.0\n",
       "22   0.00001   10000.0  1.000000e-07  0.026435      0.0\n",
       "7    0.00001     100.0  1.000000e-08  0.026435      0.0\n",
       "..       ...       ...           ...       ...      ...\n",
       "135  1.00000    1000.0  1.000000e-08  0.159742      5.0\n",
       "141  1.00000   10000.0  1.000000e-06  0.159742      5.0\n",
       "125  1.00000     100.0  1.000000e-06  0.159743      5.0\n",
       "132  1.00000    1000.0  1.000000e-05  0.159743      5.0\n",
       "140  1.00000   10000.0  1.000000e-05  0.159743      5.0\n",
       "\n",
       "[144 rows x 5 columns]"
      ]
     },
     "execution_count": 230,
     "metadata": {},
     "output_type": "execute_result"
    }
   ],
   "source": [
    "a = kf_scores.sort_values(by='mae')\n",
    "a"
   ]
  },
  {
   "cell_type": "code",
   "execution_count": 231,
   "metadata": {},
   "outputs": [
    {
     "name": "stdout",
     "output_type": "stream",
     "text": [
      "[0. 2. 3. 4. 5.]\n"
     ]
    }
   ],
   "source": [
    "print(np.unique(a['n_zeros']))"
   ]
  },
  {
   "cell_type": "code",
   "execution_count": 232,
   "metadata": {},
   "outputs": [
    {
     "data": {
      "text/plain": [
       "alpha       1.000000e-05\n",
       "max_iter    1.000000e+04\n",
       "tol         1.000000e-08\n",
       "mae         2.643486e-02\n",
       "n_zeros     0.000000e+00\n",
       "Name: 23, dtype: float64"
      ]
     },
     "execution_count": 232,
     "metadata": {},
     "output_type": "execute_result"
    }
   ],
   "source": [
    "best_0_zeros = a[a['n_zeros'] == 0].sort_values(by='mae').iloc[0]\n",
    "best_0_zeros"
   ]
  },
  {
   "cell_type": "code",
   "execution_count": 233,
   "metadata": {},
   "outputs": [
    {
     "data": {
      "text/plain": [
       "alpha         0.001000\n",
       "max_iter    100.000000\n",
       "tol           0.000001\n",
       "mae           0.026449\n",
       "n_zeros       2.000000\n",
       "Name: 53, dtype: float64"
      ]
     },
     "execution_count": 233,
     "metadata": {},
     "output_type": "execute_result"
    }
   ],
   "source": [
    "best_2_zeros = a[a['n_zeros'] == 2].sort_values(by='mae').iloc[0]\n",
    "best_2_zeros"
   ]
  },
  {
   "cell_type": "code",
   "execution_count": 234,
   "metadata": {},
   "outputs": [
    {
     "data": {
      "text/plain": [
       "alpha          0.010000\n",
       "max_iter    1000.000000\n",
       "tol            0.001000\n",
       "mae            0.026694\n",
       "n_zeros        4.000000\n",
       "Name: 82, dtype: float64"
      ]
     },
     "execution_count": 234,
     "metadata": {},
     "output_type": "execute_result"
    }
   ],
   "source": [
    "best_4_zeros = a[a['n_zeros'] == 4].sort_values(by='mae').iloc[0]\n",
    "best_4_zeros"
   ]
  },
  {
   "cell_type": "code",
   "execution_count": 235,
   "metadata": {},
   "outputs": [
    {
     "data": {
      "text/plain": [
       "alpha          0.100000\n",
       "max_iter    1000.000000\n",
       "tol            0.100000\n",
       "mae            0.032235\n",
       "n_zeros        5.000000\n",
       "Name: 104, dtype: float64"
      ]
     },
     "execution_count": 235,
     "metadata": {},
     "output_type": "execute_result"
    }
   ],
   "source": [
    "best_5_zeros = a[a['n_zeros'] == 5].sort_values(by='mae').iloc[0]\n",
    "best_5_zeros"
   ]
  }
 ],
 "metadata": {
  "kernelspec": {
   "display_name": "base",
   "language": "python",
   "name": "python3"
  },
  "language_info": {
   "codemirror_mode": {
    "name": "ipython",
    "version": 3
   },
   "file_extension": ".py",
   "mimetype": "text/x-python",
   "name": "python",
   "nbconvert_exporter": "python",
   "pygments_lexer": "ipython3",
   "version": "3.12.4"
  }
 },
 "nbformat": 4,
 "nbformat_minor": 2
}
