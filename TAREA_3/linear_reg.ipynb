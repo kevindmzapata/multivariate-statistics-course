{
 "cells": [
  {
   "cell_type": "markdown",
   "metadata": {},
   "source": [
    "# TAREA NO. 3 - ESTADÍSTICA MULTIVARIADA: REGRESIÓN MULTIVARIADA\n",
    "\n",
    "## Descripción de la base de datos\n",
    "Este conjutno de datos contiene seis meses de datos de consumo eléctrico de un hogar, recogidos entre enero y junio de 2007. Los datos incluyen información sobre potencia activa global, potencia reactiva global, tensión, intensidad global, submedición 1 (cocina), submedición 2 (lavadero) y submedición 3 (calentador de agua eléctrico y aire acondicionado). Con 260.640 mediciones en total, el objetivo es predecir o estimar el consumo eléctrico de los hogares.\n",
    "\n",
    "| Nombre de la columna | Descripción |\n",
    "| --- | --- |\n",
    "| Fecha | La fecha de la observación. (Fecha) |\n",
    "| Hora | La hora de la observación. (Hora) |\n",
    "| Potencia_activa_global | La potencia activa total consumida por el hogar (kilovatios). (Numérico) |\n",
    "| Potencia_reactiva_global | La potencia reactiva total consumida por el hogar (kilovatios). (Numérico) |\n",
    "| Voltaje | El voltaje al cual se entrega la electricidad al hogar (voltios). (Numérico) |\n",
    "| Intensidad_global | La intensidad de corriente promedio entregada al hogar (amperios). (Numérico) |\n",
    "| Sub_medición_1 | La potencia activa consumida por la cocina (kilovatios). (Numérico) |\n",
    "| Sub_medición_2 | La potencia activa consumida por la lavandería (kilovatios). (Numérico) |\n",
    "| Sub_medición_3 | La potencia activa consumida por el calentador de agua eléctrico y el aire acondicionado (kilovatios). (Numérico) |\n",
    "\n",
    "La variable respuesta para el modelo de regresión múltiple es la potencia aparente global en la red. A priori, esta variable no está incluida dentro del conjunto de datos, por lo que es necesario obtenerla a parir de la potencia reactiva y activa global que si están disponibles en el conjunto de datos."
   ]
  },
  {
   "cell_type": "code",
   "execution_count": 1,
   "metadata": {},
   "outputs": [],
   "source": [
    "# Importar las librerias necesarias\n",
    "import numpy as np\n",
    "import pandas as pd\n",
    "import matplotlib.pyplot as plt\n",
    "import seaborn as sns"
   ]
  },
  {
   "cell_type": "markdown",
   "metadata": {},
   "source": [
    "## 1. Preprocesamiento de los datos\n",
    "\n",
    "### 1.1. Preparación de la base de datos con las variables predictoras y la variable respuesta"
   ]
  },
  {
   "cell_type": "code",
   "execution_count": 2,
   "metadata": {},
   "outputs": [],
   "source": [
    "def date_to_semester_fraction(date):\n",
    "    \"\"\" Se convierte la fecha a un valor entre 0 y 1 que representa el semestre en el que se encuentra la fecha\n",
    "\n",
    "    Args:\n",
    "        date (str): Fecha en formato 'dd/mm/yyyy'\n",
    "\n",
    "    Returns:\n",
    "        float: Fracción del semestre en el que se encuentra\n",
    "    \"\"\"\n",
    "    day, month, year = map(int, date.split('/'))\n",
    "    days_in_month = [31, 28, 31, 30, 31, 30]\n",
    "    day_of_year = sum(days_in_month[:month - 1]) + day\n",
    "    return day_of_year / 182"
   ]
  },
  {
   "cell_type": "code",
   "execution_count": 3,
   "metadata": {},
   "outputs": [
    {
     "name": "stdout",
     "output_type": "stream",
     "text": [
      "<class 'pandas.core.frame.DataFrame'>\n",
      "Index: 256869 entries, 0 to 260639\n",
      "Data columns (total 9 columns):\n",
      " #   Column                 Non-Null Count   Dtype  \n",
      "---  ------                 --------------   -----  \n",
      " 0   Global_active_power    256869 non-null  object \n",
      " 1   Global_reactive_power  256869 non-null  object \n",
      " 2   Voltage                256869 non-null  object \n",
      " 3   Global_intensity       256869 non-null  object \n",
      " 4   Sub_metering_1         256869 non-null  object \n",
      " 5   Sub_metering_2         256869 non-null  object \n",
      " 6   Sub_metering_3         256869 non-null  float64\n",
      " 7   day_frac               256869 non-null  float64\n",
      " 8   semester_frac          256869 non-null  float64\n",
      "dtypes: float64(3), object(6)\n",
      "memory usage: 19.6+ MB\n"
     ]
    }
   ],
   "source": [
    "# Preprocesamiento de los datos\n",
    "df = pd.read_csv('household_power_consumption.csv')\n",
    "df = df.replace('?', np.nan)\n",
    "df = df.dropna()\n",
    "df['day_frac'] = df['Time'].apply(lambda x: (int(x.split(':')[0]) * 3600 + int(x.split(':')[1]) * 60 + int(x.split(':')[2])) / 86400)\n",
    "df['semester_frac'] = df['Date'].apply(date_to_semester_fraction)\n",
    "df = df.drop(['index', 'Date', 'Time'], axis=1)\n",
    "df.info()"
   ]
  },
  {
   "cell_type": "markdown",
   "metadata": {},
   "source": [
    "En este caso, al no tratarse de un modelo pensado para series de tiempo (lo cual sería ideal para este tipo de bases de datos ya que los datos presentan patrones estacionales), se optó por convertir las variables de fecha y tiempo en variables numéricas de la siguiente forma: i) para la fecha, se consideró el tiempo de desde enero de 2007 hasta junio de 2007, que es un semestre, como el 100% del tiempo, por lo que la columna de feca ahora es un valor entre 0.0 y 1.0 que representa el porcentaje del semestre que ha transcurrido; ii) el tiempo tiene un análisis similar, pero ahora se considera es el porcentaje del día que ha transcurrido, esto debido a que la base de datos esta compuesta por muestras tomadas en cada minuto el día durante los 6 meses."
   ]
  },
  {
   "cell_type": "code",
   "execution_count": 4,
   "metadata": {},
   "outputs": [
    {
     "name": "stdout",
     "output_type": "stream",
     "text": [
      "<class 'pandas.core.frame.DataFrame'>\n",
      "Index: 256869 entries, 0 to 260639\n",
      "Data columns (total 9 columns):\n",
      " #   Column                 Non-Null Count   Dtype  \n",
      "---  ------                 --------------   -----  \n",
      " 0   Global_active_power    256869 non-null  float64\n",
      " 1   Global_reactive_power  256869 non-null  float64\n",
      " 2   Voltage                256869 non-null  float64\n",
      " 3   Global_intensity       256869 non-null  float64\n",
      " 4   Sub_metering_1         256869 non-null  float64\n",
      " 5   Sub_metering_2         256869 non-null  float64\n",
      " 6   Sub_metering_3         256869 non-null  float64\n",
      " 7   day_frac               256869 non-null  float64\n",
      " 8   semester_frac          256869 non-null  float64\n",
      "dtypes: float64(9)\n",
      "memory usage: 19.6 MB\n"
     ]
    }
   ],
   "source": [
    "# Conversión de los datos a float\n",
    "for col in df.columns:\n",
    "    df[col] = df[col].astype(float)\n",
    "    \n",
    "df.info()"
   ]
  },
  {
   "cell_type": "code",
   "execution_count": 5,
   "metadata": {},
   "outputs": [],
   "source": [
    "# Se calcula la potencia aparente global a partir de la potencia activa y reactiva usando la fórmula S = sqrt(P^2 + Q^2)\n",
    "df['Global_apparent_power'] = np.sqrt(df['Global_active_power'] ** 2 + df['Global_reactive_power'] ** 2)\n",
    "df.drop(['Global_active_power', 'Global_reactive_power'], axis=1, inplace=True)"
   ]
  },
  {
   "cell_type": "markdown",
   "metadata": {},
   "source": [
    "La potencia aparente se calcula a partir de la potencia reactiva y activa como la raíz de la suma de estas componentes al cuadrado como se muestra en la imagen:"
   ]
  },
  {
   "cell_type": "code",
   "execution_count": 6,
   "metadata": {},
   "outputs": [
    {
     "data": {
      "text/html": [
       "<img src=\"https://blogger.googleusercontent.com/img/b/R29vZ2xl/AVvXsEic9D1dQVBXgZ-fxxRSRj-_P7lt_BmaEN7pMRtQ61d2tJFni3JTcGlwf1HZdggjAozWL6xHH5HpbXPVTXRrngbO7nxhLOsTUlP9r4NUznCOOy278Ufg96I4LzMMSfgxHs4DuIoR7HUnKpI6/s1600/triangulo.png\" width=\"600\" height=\"400\"/>"
      ],
      "text/plain": [
       "<IPython.core.display.Image object>"
      ]
     },
     "execution_count": 6,
     "metadata": {},
     "output_type": "execute_result"
    }
   ],
   "source": [
    "from IPython.display import Image\n",
    "Image(url= \"https://blogger.googleusercontent.com/img/b/R29vZ2xl/AVvXsEic9D1dQVBXgZ-fxxRSRj-_P7lt_BmaEN7pMRtQ61d2tJFni3JTcGlwf1HZdggjAozWL6xHH5HpbXPVTXRrngbO7nxhLOsTUlP9r4NUznCOOy278Ufg96I4LzMMSfgxHs4DuIoR7HUnKpI6/s1600/triangulo.png\", width=600, height=400)"
   ]
  },
  {
   "cell_type": "code",
   "execution_count": 7,
   "metadata": {},
   "outputs": [
    {
     "data": {
      "text/html": [
       "<div>\n",
       "<style scoped>\n",
       "    .dataframe tbody tr th:only-of-type {\n",
       "        vertical-align: middle;\n",
       "    }\n",
       "\n",
       "    .dataframe tbody tr th {\n",
       "        vertical-align: top;\n",
       "    }\n",
       "\n",
       "    .dataframe thead th {\n",
       "        text-align: right;\n",
       "    }\n",
       "</style>\n",
       "<table border=\"1\" class=\"dataframe\">\n",
       "  <thead>\n",
       "    <tr style=\"text-align: right;\">\n",
       "      <th></th>\n",
       "      <th>Voltage</th>\n",
       "      <th>Global_intensity</th>\n",
       "      <th>Sub_metering_1</th>\n",
       "      <th>Sub_metering_2</th>\n",
       "      <th>Sub_metering_3</th>\n",
       "      <th>day_frac</th>\n",
       "      <th>semester_frac</th>\n",
       "      <th>Global_apparent_power</th>\n",
       "    </tr>\n",
       "  </thead>\n",
       "  <tbody>\n",
       "    <tr>\n",
       "      <th>0</th>\n",
       "      <td>241.97</td>\n",
       "      <td>10.6</td>\n",
       "      <td>0.0</td>\n",
       "      <td>0.0</td>\n",
       "      <td>0.0</td>\n",
       "      <td>0.000000</td>\n",
       "      <td>0.005495</td>\n",
       "      <td>2.583582</td>\n",
       "    </tr>\n",
       "    <tr>\n",
       "      <th>1</th>\n",
       "      <td>241.75</td>\n",
       "      <td>10.4</td>\n",
       "      <td>0.0</td>\n",
       "      <td>0.0</td>\n",
       "      <td>0.0</td>\n",
       "      <td>0.000694</td>\n",
       "      <td>0.005495</td>\n",
       "      <td>2.553958</td>\n",
       "    </tr>\n",
       "    <tr>\n",
       "      <th>2</th>\n",
       "      <td>241.64</td>\n",
       "      <td>10.4</td>\n",
       "      <td>0.0</td>\n",
       "      <td>0.0</td>\n",
       "      <td>0.0</td>\n",
       "      <td>0.001389</td>\n",
       "      <td>0.005495</td>\n",
       "      <td>2.551960</td>\n",
       "    </tr>\n",
       "    <tr>\n",
       "      <th>3</th>\n",
       "      <td>241.71</td>\n",
       "      <td>10.4</td>\n",
       "      <td>0.0</td>\n",
       "      <td>0.0</td>\n",
       "      <td>0.0</td>\n",
       "      <td>0.002083</td>\n",
       "      <td>0.005495</td>\n",
       "      <td>2.551960</td>\n",
       "    </tr>\n",
       "    <tr>\n",
       "      <th>4</th>\n",
       "      <td>241.98</td>\n",
       "      <td>10.4</td>\n",
       "      <td>0.0</td>\n",
       "      <td>0.0</td>\n",
       "      <td>0.0</td>\n",
       "      <td>0.002778</td>\n",
       "      <td>0.005495</td>\n",
       "      <td>2.555957</td>\n",
       "    </tr>\n",
       "    <tr>\n",
       "      <th>...</th>\n",
       "      <td>...</td>\n",
       "      <td>...</td>\n",
       "      <td>...</td>\n",
       "      <td>...</td>\n",
       "      <td>...</td>\n",
       "      <td>...</td>\n",
       "      <td>...</td>\n",
       "      <td>...</td>\n",
       "    </tr>\n",
       "    <tr>\n",
       "      <th>260635</th>\n",
       "      <td>239.01</td>\n",
       "      <td>12.0</td>\n",
       "      <td>0.0</td>\n",
       "      <td>0.0</td>\n",
       "      <td>18.0</td>\n",
       "      <td>0.996528</td>\n",
       "      <td>0.994505</td>\n",
       "      <td>2.902413</td>\n",
       "    </tr>\n",
       "    <tr>\n",
       "      <th>260636</th>\n",
       "      <td>238.86</td>\n",
       "      <td>12.2</td>\n",
       "      <td>0.0</td>\n",
       "      <td>0.0</td>\n",
       "      <td>17.0</td>\n",
       "      <td>0.997222</td>\n",
       "      <td>0.994505</td>\n",
       "      <td>2.914074</td>\n",
       "    </tr>\n",
       "    <tr>\n",
       "      <th>260637</th>\n",
       "      <td>239.05</td>\n",
       "      <td>12.0</td>\n",
       "      <td>0.0</td>\n",
       "      <td>0.0</td>\n",
       "      <td>18.0</td>\n",
       "      <td>0.997917</td>\n",
       "      <td>0.994505</td>\n",
       "      <td>2.895570</td>\n",
       "    </tr>\n",
       "    <tr>\n",
       "      <th>260638</th>\n",
       "      <td>238.98</td>\n",
       "      <td>11.2</td>\n",
       "      <td>0.0</td>\n",
       "      <td>0.0</td>\n",
       "      <td>18.0</td>\n",
       "      <td>0.998611</td>\n",
       "      <td>0.994505</td>\n",
       "      <td>2.675762</td>\n",
       "    </tr>\n",
       "    <tr>\n",
       "      <th>260639</th>\n",
       "      <td>239.25</td>\n",
       "      <td>10.6</td>\n",
       "      <td>0.0</td>\n",
       "      <td>1.0</td>\n",
       "      <td>17.0</td>\n",
       "      <td>0.999306</td>\n",
       "      <td>0.994505</td>\n",
       "      <td>2.572474</td>\n",
       "    </tr>\n",
       "  </tbody>\n",
       "</table>\n",
       "<p>256869 rows × 8 columns</p>\n",
       "</div>"
      ],
      "text/plain": [
       "        Voltage  Global_intensity  Sub_metering_1  Sub_metering_2  \\\n",
       "0        241.97              10.6             0.0             0.0   \n",
       "1        241.75              10.4             0.0             0.0   \n",
       "2        241.64              10.4             0.0             0.0   \n",
       "3        241.71              10.4             0.0             0.0   \n",
       "4        241.98              10.4             0.0             0.0   \n",
       "...         ...               ...             ...             ...   \n",
       "260635   239.01              12.0             0.0             0.0   \n",
       "260636   238.86              12.2             0.0             0.0   \n",
       "260637   239.05              12.0             0.0             0.0   \n",
       "260638   238.98              11.2             0.0             0.0   \n",
       "260639   239.25              10.6             0.0             1.0   \n",
       "\n",
       "        Sub_metering_3  day_frac  semester_frac  Global_apparent_power  \n",
       "0                  0.0  0.000000       0.005495               2.583582  \n",
       "1                  0.0  0.000694       0.005495               2.553958  \n",
       "2                  0.0  0.001389       0.005495               2.551960  \n",
       "3                  0.0  0.002083       0.005495               2.551960  \n",
       "4                  0.0  0.002778       0.005495               2.555957  \n",
       "...                ...       ...            ...                    ...  \n",
       "260635            18.0  0.996528       0.994505               2.902413  \n",
       "260636            17.0  0.997222       0.994505               2.914074  \n",
       "260637            18.0  0.997917       0.994505               2.895570  \n",
       "260638            18.0  0.998611       0.994505               2.675762  \n",
       "260639            17.0  0.999306       0.994505               2.572474  \n",
       "\n",
       "[256869 rows x 8 columns]"
      ]
     },
     "execution_count": 7,
     "metadata": {},
     "output_type": "execute_result"
    }
   ],
   "source": [
    "df"
   ]
  },
  {
   "cell_type": "markdown",
   "metadata": {},
   "source": [
    "### 1.2. Obtención de los valores X e y para entrenar al modelo de regresión"
   ]
  },
  {
   "cell_type": "code",
   "execution_count": 8,
   "metadata": {},
   "outputs": [
    {
     "data": {
      "text/plain": [
       "((256869, 7), (256869,))"
      ]
     },
     "execution_count": 8,
     "metadata": {},
     "output_type": "execute_result"
    }
   ],
   "source": [
    "y = df['Global_apparent_power'].to_numpy()\n",
    "X = df.drop('Global_apparent_power', axis=1).to_numpy()\n",
    "\n",
    "X.shape, y.shape"
   ]
  },
  {
   "cell_type": "markdown",
   "metadata": {},
   "source": [
    "Finalmente, el conjunto de datos es un conjunto de 256.869 observaciones con 7 variables predictoras y una sola variable respuesta que estima el consumo en una casa a partir de las mediciones hechas en diferentes áreas de la casa.\n",
    "\n",
    "El reto en este caso es estimar ese consumo considerando que hay algunas mediciones no tomadas en cuenta, como, por ejemplo, algunas cargas inductivas o capacitivas que producen una componente reactiva de la potencia y que no se ve reflejada en los medidores (ya que estos solo miden potencia activa). Además, podría haber otros medidores que no fueron tenidos en cuenta o habitaciones que no fueron monitoreadas."
   ]
  },
  {
   "cell_type": "markdown",
   "metadata": {},
   "source": [
    "## 2. Creación del Modelo de Regresión Multiple Lineal\n",
    "\n",
    "### 2.1 Proceso de validacion cruzada"
   ]
  },
  {
   "cell_type": "code",
   "execution_count": 9,
   "metadata": {},
   "outputs": [],
   "source": [
    "# Importar las librerias necesarias para regresión multiple lineal con regularización Lasso\n",
    "from sklearn.linear_model import Lasso\n",
    "from sklearn.model_selection import KFold\n",
    "\n",
    "# Se realiza una validación cruzada para encontrar los mejores hiperparámetros\n",
    "kf = KFold(n_splits=5, shuffle=True)\n",
    "kf_scores = pd.DataFrame(columns=['alpha', 'max_iter', 'tol', 'mae', 'n_zeros'])\n",
    "\n",
    "# Proceso e validación cruzada con diferentes hiperparámetros (alpha, max_iter, tol)\n",
    "for alpha in [0.00001, 0.0001, 0.001, 0.01, 0.1, 1.0]:\n",
    "    for max_iter in [100, 1000, 10000]:\n",
    "        for tol in [1e-1, 1e-2, 1e-3, 1e-4, 1e-5, 1e-6, 1e-7, 1e-8]:\n",
    "            scores = []\n",
    "            for train_index, test_index in kf.split(X):\n",
    "                # Dividir los datos en entrenamiento y prueba\n",
    "                X_train, X_test = X[train_index], X[test_index]\n",
    "                y_train, y_test = y[train_index], y[test_index]\n",
    "                \n",
    "                # Definir el modelo Lasso\n",
    "                model = Lasso(alpha=alpha, max_iter=max_iter, tol=tol)\n",
    "                \n",
    "                # Entrenar el modelo\n",
    "                model.fit(X_train, y_train)\n",
    "                \n",
    "                # Realizar predicciones\n",
    "                preds = model.predict(X_test)\n",
    "                \n",
    "                # Calcular el error medio absoluto\n",
    "                mae = np.mean(np.abs(preds - y_test))\n",
    "                scores.append(mae)\n",
    "                \n",
    "                # Contar el número de coeficientes iguales a cero para evaluar la regularización\n",
    "                n_zeros = np.sum(model.coef_ == 0).astype(int)\n",
    "                \n",
    "            # Guardar los resultados de la validación cruzada para análisis posterior\n",
    "            kf_scores.loc[len(kf_scores)] = [alpha, max_iter, tol, np.mean(scores), n_zeros]"
   ]
  },
  {
   "cell_type": "markdown",
   "metadata": {},
   "source": [
    "### 2.2. Elección del mejor modelo (en terminos del error) vs. el modelo con la menor cantidad de preictores"
   ]
  },
  {
   "cell_type": "code",
   "execution_count": 10,
   "metadata": {},
   "outputs": [
    {
     "data": {
      "text/html": [
       "<div>\n",
       "<style scoped>\n",
       "    .dataframe tbody tr th:only-of-type {\n",
       "        vertical-align: middle;\n",
       "    }\n",
       "\n",
       "    .dataframe tbody tr th {\n",
       "        vertical-align: top;\n",
       "    }\n",
       "\n",
       "    .dataframe thead th {\n",
       "        text-align: right;\n",
       "    }\n",
       "</style>\n",
       "<table border=\"1\" class=\"dataframe\">\n",
       "  <thead>\n",
       "    <tr style=\"text-align: right;\">\n",
       "      <th></th>\n",
       "      <th>alpha</th>\n",
       "      <th>max_iter</th>\n",
       "      <th>tol</th>\n",
       "      <th>mae</th>\n",
       "      <th>n_zeros</th>\n",
       "    </tr>\n",
       "  </thead>\n",
       "  <tbody>\n",
       "    <tr>\n",
       "      <th>6</th>\n",
       "      <td>0.00001</td>\n",
       "      <td>100.0</td>\n",
       "      <td>1.000000e-07</td>\n",
       "      <td>0.026435</td>\n",
       "      <td>0.0</td>\n",
       "    </tr>\n",
       "    <tr>\n",
       "      <th>37</th>\n",
       "      <td>0.00010</td>\n",
       "      <td>1000.0</td>\n",
       "      <td>1.000000e-06</td>\n",
       "      <td>0.026435</td>\n",
       "      <td>0.0</td>\n",
       "    </tr>\n",
       "    <tr>\n",
       "      <th>5</th>\n",
       "      <td>0.00001</td>\n",
       "      <td>100.0</td>\n",
       "      <td>1.000000e-06</td>\n",
       "      <td>0.026435</td>\n",
       "      <td>0.0</td>\n",
       "    </tr>\n",
       "    <tr>\n",
       "      <th>14</th>\n",
       "      <td>0.00001</td>\n",
       "      <td>1000.0</td>\n",
       "      <td>1.000000e-07</td>\n",
       "      <td>0.026435</td>\n",
       "      <td>0.0</td>\n",
       "    </tr>\n",
       "    <tr>\n",
       "      <th>44</th>\n",
       "      <td>0.00010</td>\n",
       "      <td>10000.0</td>\n",
       "      <td>1.000000e-05</td>\n",
       "      <td>0.026435</td>\n",
       "      <td>0.0</td>\n",
       "    </tr>\n",
       "    <tr>\n",
       "      <th>...</th>\n",
       "      <td>...</td>\n",
       "      <td>...</td>\n",
       "      <td>...</td>\n",
       "      <td>...</td>\n",
       "      <td>...</td>\n",
       "    </tr>\n",
       "    <tr>\n",
       "      <th>143</th>\n",
       "      <td>1.00000</td>\n",
       "      <td>10000.0</td>\n",
       "      <td>1.000000e-08</td>\n",
       "      <td>0.159742</td>\n",
       "      <td>5.0</td>\n",
       "    </tr>\n",
       "    <tr>\n",
       "      <th>142</th>\n",
       "      <td>1.00000</td>\n",
       "      <td>10000.0</td>\n",
       "      <td>1.000000e-07</td>\n",
       "      <td>0.159743</td>\n",
       "      <td>5.0</td>\n",
       "    </tr>\n",
       "    <tr>\n",
       "      <th>124</th>\n",
       "      <td>1.00000</td>\n",
       "      <td>100.0</td>\n",
       "      <td>1.000000e-05</td>\n",
       "      <td>0.159743</td>\n",
       "      <td>5.0</td>\n",
       "    </tr>\n",
       "    <tr>\n",
       "      <th>125</th>\n",
       "      <td>1.00000</td>\n",
       "      <td>100.0</td>\n",
       "      <td>1.000000e-06</td>\n",
       "      <td>0.159743</td>\n",
       "      <td>5.0</td>\n",
       "    </tr>\n",
       "    <tr>\n",
       "      <th>134</th>\n",
       "      <td>1.00000</td>\n",
       "      <td>1000.0</td>\n",
       "      <td>1.000000e-07</td>\n",
       "      <td>0.159747</td>\n",
       "      <td>5.0</td>\n",
       "    </tr>\n",
       "  </tbody>\n",
       "</table>\n",
       "<p>144 rows × 5 columns</p>\n",
       "</div>"
      ],
      "text/plain": [
       "       alpha  max_iter           tol       mae  n_zeros\n",
       "6    0.00001     100.0  1.000000e-07  0.026435      0.0\n",
       "37   0.00010    1000.0  1.000000e-06  0.026435      0.0\n",
       "5    0.00001     100.0  1.000000e-06  0.026435      0.0\n",
       "14   0.00001    1000.0  1.000000e-07  0.026435      0.0\n",
       "44   0.00010   10000.0  1.000000e-05  0.026435      0.0\n",
       "..       ...       ...           ...       ...      ...\n",
       "143  1.00000   10000.0  1.000000e-08  0.159742      5.0\n",
       "142  1.00000   10000.0  1.000000e-07  0.159743      5.0\n",
       "124  1.00000     100.0  1.000000e-05  0.159743      5.0\n",
       "125  1.00000     100.0  1.000000e-06  0.159743      5.0\n",
       "134  1.00000    1000.0  1.000000e-07  0.159747      5.0\n",
       "\n",
       "[144 rows x 5 columns]"
      ]
     },
     "execution_count": 10,
     "metadata": {},
     "output_type": "execute_result"
    }
   ],
   "source": [
    "# Se ordenan los resultados de la validación cruzada por el error absoluto medio\n",
    "a = kf_scores.sort_values(by='mae')\n",
    "a"
   ]
  },
  {
   "cell_type": "code",
   "execution_count": 11,
   "metadata": {},
   "outputs": [
    {
     "name": "stdout",
     "output_type": "stream",
     "text": [
      "Hay [0. 2. 4. 5.] valores de nulos\n"
     ]
    }
   ],
   "source": [
    "print('Hay', np.unique(a['n_zeros']), 'valores de nulos')"
   ]
  },
  {
   "cell_type": "code",
   "execution_count": 12,
   "metadata": {},
   "outputs": [
    {
     "data": {
      "text/plain": [
       "0.00022187114911985563"
      ]
     },
     "execution_count": 12,
     "metadata": {},
     "output_type": "execute_result"
    }
   ],
   "source": [
    "alpha = (a['mae'].max() / len(a)) / np.max(np.unique(a['n_zeros']))\n",
    "alpha"
   ]
  },
  {
   "cell_type": "code",
   "execution_count": 13,
   "metadata": {},
   "outputs": [],
   "source": [
    "def get_best_n_zeros(num, extract_best=False):\n",
    "    \"\"\" Se obtiene el mejor resultado segun la cantidad de nulos\n",
    "\n",
    "    Args:\n",
    "        num (int): Número de nulos\n",
    "\n",
    "    Returns:\n",
    "        float: Mejor valor de nulos\n",
    "    \"\"\"\n",
    "    if extract_best:\n",
    "        return a[a['n_zeros'] == num].sort_values(by='mae').iloc[0]\n",
    "    else:\n",
    "        return a[a['n_zeros'] == num].sort_values(by='mae').iloc[0]['mae']"
   ]
  },
  {
   "cell_type": "code",
   "execution_count": 14,
   "metadata": {},
   "outputs": [
    {
     "name": "stdout",
     "output_type": "stream",
     "text": [
      "Mejor valor para 0.0 coeficientes nulos es: 0.026 Watts\n",
      "Mejor valor para 2.0 coeficientes nulos es: 0.026 Watts\n",
      "Mejor valor para 4.0 coeficientes nulos es: 0.027 Watts\n",
      "Mejor valor para 5.0 coeficientes nulos es: 0.032 Watts\n"
     ]
    }
   ],
   "source": [
    "e = []\n",
    "for i in np.unique(a['n_zeros']):\n",
    "    print(f'Mejor valor para {i} coeficientes nulos es: {get_best_n_zeros(i):.3f} Watts', end='\\n')\n",
    "    e.append(get_best_n_zeros(i))"
   ]
  },
  {
   "cell_type": "code",
   "execution_count": 15,
   "metadata": {},
   "outputs": [
    {
     "data": {
      "image/png": "[encoded data removed]",
      "text/plain": [
       "<Figure size 640x480 with 1 Axes>"
      ]
     },
     "metadata": {},
     "output_type": "display_data"
    }
   ],
   "source": [
    "plt.figure()\n",
    "plt.scatter(np.unique(a['n_zeros']), e, s=60, c='b', edgecolor='black', zorder=3, clip_on=False)\n",
    "plt.plot(np.unique(a['n_zeros']), e, c='b', zorder=2)\n",
    "plt.xlabel('Número de coeficientes iguales a cero')\n",
    "plt.ylabel('Error absoluto medio [Watts]')\n",
    "plt.title('Error absoluto medio vs. Número de coeficientes iguales a cero')\n",
    "plt.xlim(np.min(a['n_zeros']), np.max(a['n_zeros']))\n",
    "plt.ylim(np.min(e), np.max(e))\n",
    "plt.grid()\n",
    "plt.show()"
   ]
  },
  {
   "cell_type": "code",
   "execution_count": 16,
   "metadata": {},
   "outputs": [
    {
     "name": "stdout",
     "output_type": "stream",
     "text": [
      "Error para 0.000 coeficientes iguales a cero: 0.026 Watts: E=0.02799\n",
      "Error para 2.000 coeficientes iguales a cero: 0.026 Watts: E=0.02756\n",
      "Error para 4.000 coeficientes iguales a cero: 0.027 Watts: E=0.02736\n",
      "Error para 5.000 coeficientes iguales a cero: 0.032 Watts: E=0.03268\n",
      "\n",
      "Mejor número de coeficientes iguales a cero: 4.0\n"
     ]
    },
    {
     "data": {
      "image/png": "[encoded data removed]",
      "text/plain": [
       "<Figure size 640x480 with 1 Axes>"
      ]
     },
     "metadata": {},
     "output_type": "display_data"
    }
   ],
   "source": [
    "# Calcular error por predictor diferente de cero\n",
    "best_n = -1\n",
    "E = []\n",
    "for i, j in zip(e, np.unique(a['n_zeros'])):\n",
    "    print(f'Error para {j:.3f} coeficientes iguales a cero: {i:.3f} Watts: E={i + (X.shape[1] - j) * alpha:.5f}')\n",
    "    E.append(i + (X.shape[1] - j) * alpha)\n",
    "    if E[-1] == np.min(E):\n",
    "        best_n = j\n",
    "        \n",
    "print(f'\\nMejor número de coeficientes iguales a cero: {best_n}')\n",
    "\n",
    "plt.figure()\n",
    "plt.scatter(np.unique(a['n_zeros']), E, s=60, c='r', edgecolor='black', zorder=3, clip_on=False)\n",
    "plt.plot(np.unique(a['n_zeros']), E, c='r')\n",
    "plt.grid()\n",
    "plt.show()"
   ]
  },
  {
   "cell_type": "markdown",
   "metadata": {},
   "source": [
    "El modelo de regresión múltiple lineal que tiene mejor desempeño en relación con la menor cantidad de predictores se obtiene usando la siguiente métrica: El máximo error obtenido durante todos los entrenamientos se divide entre el numero total de entrenamientos. Este valor a su vez se divide entre el número máximo de predictores con un factor de 0.0. Este resultado se denomina Alpha. Con este valor, se calcula la suma entre el mejor error obtenido con x cantidad de predictores en cero, y la multiplicación entre el número de predictores diferentes de cero y Alpha. Esta métrica da como resultado el mejor modelo en relación error/número de predictores diferentes de cero.\n",
    "\n",
    "El mejor modelo en este caso es el siguiente:"
   ]
  },
  {
   "cell_type": "code",
   "execution_count": 17,
   "metadata": {},
   "outputs": [
    {
     "data": {
      "text/plain": [
       "{'alpha': 0.01, 'max_iter': 10000.0, 'tol': 0.001}"
      ]
     },
     "execution_count": 17,
     "metadata": {},
     "output_type": "execute_result"
    }
   ],
   "source": [
    "best_model = get_best_n_zeros(best_n, extract_best=True)\n",
    "best_model = {\n",
    "    'alpha': best_model['alpha'],\n",
    "    'max_iter': best_model['max_iter'],\n",
    "    'tol': best_model['tol']\n",
    "}\n",
    "best_model"
   ]
  }
 ],
 "metadata": {
  "kernelspec": {
   "display_name": "base",
   "language": "python",
   "name": "python3"
  },
  "language_info": {
   "codemirror_mode": {
    "name": "ipython",
    "version": 3
   },
   "file_extension": ".py",
   "mimetype": "text/x-python",
   "name": "python",
   "nbconvert_exporter": "python",
   "pygments_lexer": "ipython3",
   "version": "3.12.4"
  }
 },
 "nbformat": 4,
 "nbformat_minor": 2
}
