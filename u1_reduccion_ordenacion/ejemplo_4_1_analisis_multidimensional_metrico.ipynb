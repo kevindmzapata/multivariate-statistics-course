{
 "cells": [
  {
   "cell_type": "code",
   "execution_count": 131,
   "metadata": {},
   "outputs": [],
   "source": [
    "# Tecnica de analisis multidimensional\n",
    "from sklearn.manifold import MDS # Importamos la libreria\n",
    "import pandas as pd\n",
    "import matplotlib.pyplot as plt\n",
    "from sklearn.preprocessing import StandardScaler\n",
    "from sklearn.metrics import euclidean_distances"
   ]
  },
  {
   "cell_type": "code",
   "execution_count": 132,
   "metadata": {},
   "outputs": [
    {
     "data": {
      "text/html": [
       "<div>\n",
       "<style scoped>\n",
       "    .dataframe tbody tr th:only-of-type {\n",
       "        vertical-align: middle;\n",
       "    }\n",
       "\n",
       "    .dataframe tbody tr th {\n",
       "        vertical-align: top;\n",
       "    }\n",
       "\n",
       "    .dataframe thead th {\n",
       "        text-align: right;\n",
       "    }\n",
       "</style>\n",
       "<table border=\"1\" class=\"dataframe\">\n",
       "  <thead>\n",
       "    <tr style=\"text-align: right;\">\n",
       "      <th></th>\n",
       "      <th>FILAID</th>\n",
       "      <th>Aspecto</th>\n",
       "      <th>Flexibilidad</th>\n",
       "      <th>Sabor</th>\n",
       "      <th>Color</th>\n",
       "      <th>Aroma</th>\n",
       "      <th>Consistencia</th>\n",
       "    </tr>\n",
       "  </thead>\n",
       "  <tbody>\n",
       "    <tr>\n",
       "      <th>0</th>\n",
       "      <td>Lenguado</td>\n",
       "      <td>3.813398</td>\n",
       "      <td>0.438920</td>\n",
       "      <td>2.628878</td>\n",
       "      <td>0.944778</td>\n",
       "      <td>4.331075</td>\n",
       "      <td>1.529661</td>\n",
       "    </tr>\n",
       "    <tr>\n",
       "      <th>1</th>\n",
       "      <td>Palometa</td>\n",
       "      <td>0.124608</td>\n",
       "      <td>3.001814</td>\n",
       "      <td>0.647716</td>\n",
       "      <td>3.415188</td>\n",
       "      <td>3.037923</td>\n",
       "      <td>0.562265</td>\n",
       "    </tr>\n",
       "    <tr>\n",
       "      <th>2</th>\n",
       "      <td>Jurel</td>\n",
       "      <td>2.273428</td>\n",
       "      <td>3.551412</td>\n",
       "      <td>0.293779</td>\n",
       "      <td>2.775940</td>\n",
       "      <td>4.062515</td>\n",
       "      <td>1.046730</td>\n",
       "    </tr>\n",
       "    <tr>\n",
       "      <th>3</th>\n",
       "      <td>Pez espada</td>\n",
       "      <td>0.697422</td>\n",
       "      <td>1.095634</td>\n",
       "      <td>0.461087</td>\n",
       "      <td>0.684837</td>\n",
       "      <td>3.301972</td>\n",
       "      <td>0.514008</td>\n",
       "    </tr>\n",
       "    <tr>\n",
       "      <th>4</th>\n",
       "      <td>Lubina</td>\n",
       "      <td>3.689734</td>\n",
       "      <td>3.422783</td>\n",
       "      <td>4.243104</td>\n",
       "      <td>3.020102</td>\n",
       "      <td>4.655982</td>\n",
       "      <td>3.539164</td>\n",
       "    </tr>\n",
       "    <tr>\n",
       "      <th>5</th>\n",
       "      <td>Rape</td>\n",
       "      <td>4.423794</td>\n",
       "      <td>2.330776</td>\n",
       "      <td>4.049592</td>\n",
       "      <td>3.646433</td>\n",
       "      <td>4.410111</td>\n",
       "      <td>1.713514</td>\n",
       "    </tr>\n",
       "    <tr>\n",
       "      <th>6</th>\n",
       "      <td>Caballa</td>\n",
       "      <td>1.554341</td>\n",
       "      <td>3.468717</td>\n",
       "      <td>0.864822</td>\n",
       "      <td>4.028649</td>\n",
       "      <td>4.230400</td>\n",
       "      <td>0.585882</td>\n",
       "    </tr>\n",
       "    <tr>\n",
       "      <th>7</th>\n",
       "      <td>Besugo</td>\n",
       "      <td>3.425659</td>\n",
       "      <td>3.068807</td>\n",
       "      <td>3.686180</td>\n",
       "      <td>2.362374</td>\n",
       "      <td>4.040060</td>\n",
       "      <td>1.714948</td>\n",
       "    </tr>\n",
       "    <tr>\n",
       "      <th>8</th>\n",
       "      <td>Merluza</td>\n",
       "      <td>1.279157</td>\n",
       "      <td>1.369601</td>\n",
       "      <td>1.588690</td>\n",
       "      <td>1.248103</td>\n",
       "      <td>2.633786</td>\n",
       "      <td>1.460293</td>\n",
       "    </tr>\n",
       "    <tr>\n",
       "      <th>9</th>\n",
       "      <td>Bacalao</td>\n",
       "      <td>2.152061</td>\n",
       "      <td>2.479908</td>\n",
       "      <td>0.544554</td>\n",
       "      <td>2.929282</td>\n",
       "      <td>3.844208</td>\n",
       "      <td>0.588848</td>\n",
       "    </tr>\n",
       "  </tbody>\n",
       "</table>\n",
       "</div>"
      ],
      "text/plain": [
       "       FILAID   Aspecto  Flexibilidad     Sabor     Color     Aroma  \\\n",
       "0    Lenguado  3.813398      0.438920  2.628878  0.944778  4.331075   \n",
       "1    Palometa  0.124608      3.001814  0.647716  3.415188  3.037923   \n",
       "2       Jurel  2.273428      3.551412  0.293779  2.775940  4.062515   \n",
       "3  Pez espada  0.697422      1.095634  0.461087  0.684837  3.301972   \n",
       "4      Lubina  3.689734      3.422783  4.243104  3.020102  4.655982   \n",
       "5        Rape  4.423794      2.330776  4.049592  3.646433  4.410111   \n",
       "6     Caballa  1.554341      3.468717  0.864822  4.028649  4.230400   \n",
       "7      Besugo  3.425659      3.068807  3.686180  2.362374  4.040060   \n",
       "8     Merluza  1.279157      1.369601  1.588690  1.248103  2.633786   \n",
       "9     Bacalao  2.152061      2.479908  0.544554  2.929282  3.844208   \n",
       "\n",
       "   Consistencia  \n",
       "0      1.529661  \n",
       "1      0.562265  \n",
       "2      1.046730  \n",
       "3      0.514008  \n",
       "4      3.539164  \n",
       "5      1.713514  \n",
       "6      0.585882  \n",
       "7      1.714948  \n",
       "8      1.460293  \n",
       "9      0.588848  "
      ]
     },
     "execution_count": 132,
     "metadata": {},
     "output_type": "execute_result"
    }
   ],
   "source": [
    "df = pd.read_excel(\"../databases/EMD.xlsx\")\n",
    "df.head(20)"
   ]
  },
  {
   "cell_type": "code",
   "execution_count": 133,
   "metadata": {},
   "outputs": [],
   "source": [
    "labels = df[\"FILAID\"]\n",
    "df = df.drop(columns=[\"FILAID\"])"
   ]
  },
  {
   "cell_type": "code",
   "execution_count": 134,
   "metadata": {},
   "outputs": [],
   "source": [
    "scaler = StandardScaler()\n",
    "scaler.fit(df)\n",
    "X_scaled = scaler.transform(df)\n",
    "\n",
    "dist_matrix = euclidean_distances(X_scaled)"
   ]
  },
  {
   "cell_type": "code",
   "execution_count": 135,
   "metadata": {},
   "outputs": [],
   "source": [
    "mds = MDS(n_components=2, metric=False, dissimilarity=\"precomputed\", random_state=1)\n",
    "X_mds = mds.fit_transform(dist_matrix)"
   ]
  },
  {
   "cell_type": "code",
   "execution_count": 136,
   "metadata": {},
   "outputs": [
    {
     "data": {
      "image/png": "[encoded data removed]",
      "text/plain": [
       "<Figure size 640x480 with 1 Axes>"
      ]
     },
     "metadata": {},
     "output_type": "display_data"
    }
   ],
   "source": [
    "plt.scatter(X_mds[:,0], X_mds[:,1], c=\"red\")\n",
    "for i, txt in enumerate(labels):\n",
    "    plt.annotate(txt, (X_mds[i,0], X_mds[i,1]))\n",
    "plt.show()"
   ]
  },
  {
   "cell_type": "code",
   "execution_count": 137,
   "metadata": {},
   "outputs": [
    {
     "name": "stdout",
     "output_type": "stream",
     "text": [
      "El valor de stress es: 0.21\n"
     ]
    }
   ],
   "source": [
    "stress = mds.stress_\n",
    "print(f\"El valor de stress es: {stress:.2f}\")"
   ]
  },
  {
   "cell_type": "markdown",
   "metadata": {},
   "source": [
    "Menor a 0.3 es bueno, entre 0.3 y 0.5 mas o menos, mayor a 0.6 malo"
   ]
  },
  {
   "cell_type": "code",
   "execution_count": 138,
   "metadata": {},
   "outputs": [
    {
     "data": {
      "image/png": "[encoded data removed]",
      "text/plain": [
       "<Figure size 640x480 with 1 Axes>"
      ]
     },
     "metadata": {},
     "output_type": "display_data"
    }
   ],
   "source": [
    "import numpy as np\n",
    "\n",
    "correlation_matrix = np.corrcoef(X_scaled.T)\n",
    "\n",
    "dist_matrix = 1 - correlation_matrix\n",
    "\n",
    "mds = MDS(n_components=2, metric=False, dissimilarity=\"precomputed\", random_state=1)\n",
    "X_mds = mds.fit_transform(dist_matrix)\n",
    "\n",
    "plt.scatter(X_mds[:,0], X_mds[:,1], c=\"red\")\n",
    "for i, var_name in enumerate(df.columns):\n",
    "    plt.text(X_mds[i,0], X_mds[i,1], var_name)\n",
    "plt.show()"
   ]
  },
  {
   "cell_type": "code",
   "execution_count": 139,
   "metadata": {},
   "outputs": [
    {
     "name": "stdout",
     "output_type": "stream",
     "text": [
      "El valor de stress es: 0.11\n"
     ]
    }
   ],
   "source": [
    "stress = mds.stress_\n",
    "print(f\"El valor de stress es: {stress:.2f}\")"
   ]
  }
 ],
 "metadata": {
  "kernelspec": {
   "display_name": "base",
   "language": "python",
   "name": "python3"
  },
  "language_info": {
   "codemirror_mode": {
    "name": "ipython",
    "version": 3
   },
   "file_extension": ".py",
   "mimetype": "text/x-python",
   "name": "python",
   "nbconvert_exporter": "python",
   "pygments_lexer": "ipython3",
   "version": "3.12.4"
  }
 },
 "nbformat": 4,
 "nbformat_minor": 2
}
