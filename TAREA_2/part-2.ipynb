{
 "cells": [
  {
   "cell_type": "markdown",
   "metadata": {},
   "source": [
    "# TAREA NO. 2 - Estadística Multivariada. Análisis discriminante"
   ]
  },
  {
   "cell_type": "code",
   "execution_count": 1,
   "metadata": {},
   "outputs": [],
   "source": [
    "import numpy as np\n",
    "import pandas as pd\n",
    "import matplotlib.pyplot as plt\n",
    "import seaborn as sns"
   ]
  },
  {
   "cell_type": "code",
   "execution_count": 2,
   "metadata": {},
   "outputs": [
    {
     "name": "stdout",
     "output_type": "stream",
     "text": [
      "<class 'pandas.core.frame.DataFrame'>\n",
      "RangeIndex: 2558 entries, 0 to 2557\n",
      "Data columns (total 14 columns):\n",
      " #   Column         Non-Null Count  Dtype  \n",
      "---  ------         --------------  -----  \n",
      " 0   Ciudad         2558 non-null   object \n",
      " 1   Altitud        2558 non-null   int64  \n",
      " 2   Año            2558 non-null   int64  \n",
      " 3   Mes            2558 non-null   int64  \n",
      " 4   Día            2558 non-null   int64  \n",
      " 5   T.Max          2556 non-null   float64\n",
      " 6   T.Min          2556 non-null   float64\n",
      " 7   T.media        2556 non-null   float64\n",
      " 8   Dir.Viento     2558 non-null   int64  \n",
      " 9   Vel.Viento     2555 non-null   float64\n",
      " 10  Precipitación  2558 non-null   float64\n",
      " 11  Sol            2557 non-null   float64\n",
      " 12  Presión.máx    2558 non-null   float64\n",
      " 13  Presión.min    2558 non-null   float64\n",
      "dtypes: float64(8), int64(5), object(1)\n",
      "memory usage: 279.9+ KB\n"
     ]
    },
    {
     "data": {
      "text/plain": [
       "(   Ciudad  Altitud   Año  Mes  Día  T.Max  T.Min  T.media  Dir.Viento  \\\n",
       " 0  Huelva       19  1990    1    1   15.4    9.4     12.4         300   \n",
       " 1  Huelva       19  1990    1    2   14.6    6.0     10.3         270   \n",
       " 2  Huelva       19  1990    1    3   13.2    8.2     10.7         270   \n",
       " 3  Huelva       19  1990    1    4   15.2    6.2     10.7          10   \n",
       " 4  Huelva       19  1990    1    5   15.2    9.2     12.2          70   \n",
       " \n",
       "    Vel.Viento  Precipitación  Sol  Presión.máx  Presión.min  \n",
       " 0         1.9            9.5  1.8       1020.0       1016.3  \n",
       " 1         2.8           20.8  2.0       1020.9       1011.4  \n",
       " 2         3.1            2.0  4.0       1017.4       1010.0  \n",
       " 3         2.2            0.0  5.4       1024.6       1017.4  \n",
       " 4         1.7            0.0  3.1       1027.3       1024.6  ,\n",
       " None)"
      ]
     },
     "execution_count": 2,
     "metadata": {},
     "output_type": "execute_result"
    }
   ],
   "source": [
    "df = pd.read_csv('discriminante.csv')\n",
    "df.head(), df.info()"
   ]
  },
  {
   "cell_type": "markdown",
   "metadata": {},
   "source": [
    "## 1. Análisis Discriminante\n",
    "\n",
    "### 1.1. Determinar la Multinormalidad de los datos\n",
    "\n",
    "Para realizar un análisis discriminante, es importante verificar si los datos son aproximadamente multinormales, ya que este tipo de análisis asume que las variables tienen una distribución normal multivariada. Vamos a realizar una prueba de normalidad multivariada como la prueba de Mardia.\n",
    "\n"
   ]
  },
  {
   "cell_type": "code",
   "execution_count": 3,
   "metadata": {},
   "outputs": [
    {
     "data": {
      "text/html": [
       "<div>\n",
       "<style scoped>\n",
       "    .dataframe tbody tr th:only-of-type {\n",
       "        vertical-align: middle;\n",
       "    }\n",
       "\n",
       "    .dataframe tbody tr th {\n",
       "        vertical-align: top;\n",
       "    }\n",
       "\n",
       "    .dataframe thead th {\n",
       "        text-align: right;\n",
       "    }\n",
       "</style>\n",
       "<table border=\"1\" class=\"dataframe\">\n",
       "  <thead>\n",
       "    <tr style=\"text-align: right;\">\n",
       "      <th></th>\n",
       "      <th>T.Max</th>\n",
       "      <th>T.Min</th>\n",
       "      <th>T.media</th>\n",
       "      <th>Vel.Viento</th>\n",
       "      <th>Precipitación</th>\n",
       "      <th>Sol</th>\n",
       "      <th>Presión.máx</th>\n",
       "      <th>Presión.min</th>\n",
       "    </tr>\n",
       "  </thead>\n",
       "  <tbody>\n",
       "    <tr>\n",
       "      <th>0</th>\n",
       "      <td>15.4</td>\n",
       "      <td>9.4</td>\n",
       "      <td>12.4</td>\n",
       "      <td>1.9</td>\n",
       "      <td>9.5</td>\n",
       "      <td>1.8</td>\n",
       "      <td>1020.0</td>\n",
       "      <td>1016.3</td>\n",
       "    </tr>\n",
       "    <tr>\n",
       "      <th>1</th>\n",
       "      <td>14.6</td>\n",
       "      <td>6.0</td>\n",
       "      <td>10.3</td>\n",
       "      <td>2.8</td>\n",
       "      <td>20.8</td>\n",
       "      <td>2.0</td>\n",
       "      <td>1020.9</td>\n",
       "      <td>1011.4</td>\n",
       "    </tr>\n",
       "    <tr>\n",
       "      <th>2</th>\n",
       "      <td>13.2</td>\n",
       "      <td>8.2</td>\n",
       "      <td>10.7</td>\n",
       "      <td>3.1</td>\n",
       "      <td>2.0</td>\n",
       "      <td>4.0</td>\n",
       "      <td>1017.4</td>\n",
       "      <td>1010.0</td>\n",
       "    </tr>\n",
       "    <tr>\n",
       "      <th>3</th>\n",
       "      <td>15.2</td>\n",
       "      <td>6.2</td>\n",
       "      <td>10.7</td>\n",
       "      <td>2.2</td>\n",
       "      <td>0.0</td>\n",
       "      <td>5.4</td>\n",
       "      <td>1024.6</td>\n",
       "      <td>1017.4</td>\n",
       "    </tr>\n",
       "    <tr>\n",
       "      <th>4</th>\n",
       "      <td>15.2</td>\n",
       "      <td>9.2</td>\n",
       "      <td>12.2</td>\n",
       "      <td>1.7</td>\n",
       "      <td>0.0</td>\n",
       "      <td>3.1</td>\n",
       "      <td>1027.3</td>\n",
       "      <td>1024.6</td>\n",
       "    </tr>\n",
       "  </tbody>\n",
       "</table>\n",
       "</div>"
      ],
      "text/plain": [
       "   T.Max  T.Min  T.media  Vel.Viento  Precipitación  Sol  Presión.máx  \\\n",
       "0   15.4    9.4     12.4         1.9            9.5  1.8       1020.0   \n",
       "1   14.6    6.0     10.3         2.8           20.8  2.0       1020.9   \n",
       "2   13.2    8.2     10.7         3.1            2.0  4.0       1017.4   \n",
       "3   15.2    6.2     10.7         2.2            0.0  5.4       1024.6   \n",
       "4   15.2    9.2     12.2         1.7            0.0  3.1       1027.3   \n",
       "\n",
       "   Presión.min  \n",
       "0       1016.3  \n",
       "1       1011.4  \n",
       "2       1010.0  \n",
       "3       1017.4  \n",
       "4       1024.6  "
      ]
     },
     "execution_count": 3,
     "metadata": {},
     "output_type": "execute_result"
    }
   ],
   "source": [
    "from scipy.stats import shapiro\n",
    "from sklearn.preprocessing import StandardScaler\n",
    "\n",
    "# Seleccionar solamente las columnas numéricas\n",
    "numeric_columns = df.select_dtypes(include='float64').columns\n",
    "numeric_data = df[numeric_columns]\n",
    "numeric_data.head()"
   ]
  },
  {
   "cell_type": "code",
   "execution_count": 4,
   "metadata": {},
   "outputs": [
    {
     "data": {
      "text/plain": [
       "T.Max            2\n",
       "T.Min            2\n",
       "T.media          2\n",
       "Vel.Viento       3\n",
       "Precipitación    0\n",
       "Sol              1\n",
       "Presión.máx      0\n",
       "Presión.min      0\n",
       "dtype: int64"
      ]
     },
     "execution_count": 4,
     "metadata": {},
     "output_type": "execute_result"
    }
   ],
   "source": [
    "# Calcular la cantidad de valores nulos en cada columna\n",
    "numeric_data.isnull().sum()"
   ]
  },
  {
   "cell_type": "code",
   "execution_count": 5,
   "metadata": {},
   "outputs": [
    {
     "name": "stderr",
     "output_type": "stream",
     "text": [
      "C:\\Users\\kevin\\AppData\\Local\\Temp\\ipykernel_17068\\1592801117.py:2: SettingWithCopyWarning: \n",
      "A value is trying to be set on a copy of a slice from a DataFrame\n",
      "\n",
      "See the caveats in the documentation: https://pandas.pydata.org/pandas-docs/stable/user_guide/indexing.html#returning-a-view-versus-a-copy\n",
      "  numeric_data.fillna(numeric_data.mean(axis=0), inplace=True)\n"
     ]
    }
   ],
   "source": [
    "# Imputar los valores nulos con la media de la columna\n",
    "numeric_data.fillna(numeric_data.mean(axis=0), inplace=True)"
   ]
  },
  {
   "cell_type": "code",
   "execution_count": 6,
   "metadata": {},
   "outputs": [],
   "source": [
    "scaler = StandardScaler().fit(numeric_data)\n",
    "numeric_data_scaled = scaler.transform(numeric_data)"
   ]
  },
  {
   "cell_type": "code",
   "execution_count": 7,
   "metadata": {},
   "outputs": [
    {
     "data": {
      "text/plain": [
       "(array([ 8.88872852e-17, -2.22218213e-16,  3.99992783e-16,  6.66654639e-17,\n",
       "         5.55545532e-17, -3.55549141e-16,  2.93328041e-15, -1.18664526e-14]),\n",
       " array([1., 1., 1., 1., 1., 1., 1., 1.]))"
      ]
     },
     "execution_count": 7,
     "metadata": {},
     "output_type": "execute_result"
    }
   ],
   "source": [
    "numeric_data_scaled.mean(axis=0), numeric_data_scaled.std(axis=0)"
   ]
  },
  {
   "cell_type": "code",
   "execution_count": 8,
   "metadata": {},
   "outputs": [
    {
     "data": {
      "text/plain": [
       "{'T.Max': ShapiroResult(statistic=0.9824943935444677, pvalue=3.207238308508911e-17),\n",
       " 'T.Min': ShapiroResult(statistic=0.9887362211933758, pvalue=2.4911261069861235e-13),\n",
       " 'T.media': ShapiroResult(statistic=0.9784670204225179, pvalue=3.0902979496840887e-19),\n",
       " 'Vel.Viento': ShapiroResult(statistic=0.9584002092905829, pvalue=1.8708806622781413e-26),\n",
       " 'Precipitación': ShapiroResult(statistic=0.3429155447741349, pvalue=4.187435678169307e-70),\n",
       " 'Sol': ShapiroResult(statistic=0.93887896007276, pvalue=3.0599809748105805e-31),\n",
       " 'Presión.máx': ShapiroResult(statistic=0.910225161435505, pvalue=1.9204196086063463e-36),\n",
       " 'Presión.min': ShapiroResult(statistic=0.9187028243850723, pvalue=4.633133492107244e-35)}"
      ]
     },
     "execution_count": 8,
     "metadata": {},
     "output_type": "execute_result"
    }
   ],
   "source": [
    "# Test de Shapiro-Wilk para cada columna\n",
    "shapiro_results = {col: shapiro(numeric_data_scaled[:, i]) for i, col in enumerate(numeric_columns)}\n",
    "shapiro_results"
   ]
  },
  {
   "cell_type": "markdown",
   "metadata": {},
   "source": [
    "Los resultados de la prueba de Shapiro-Wilk para la normalidad univariante de las variables numéricas indican que el conjunto de datos no sigue una distribución multinormal (requisito de normalidad multivariante), lo cual afecta la posibilidad de aplicar un análisis discriminante lineal (LDA), que asume normalidad en las clases. Sin embargo, aún podemos intentar aplicar Análisis Discriminante Cuadrático (QDA), que es más flexible y no requiere la estricta normalidad.\n",
    "\n",
    "### 1.2. Análisis Discriminante Cuadrático (QDA)"
   ]
  },
  {
   "cell_type": "code",
   "execution_count": 9,
   "metadata": {},
   "outputs": [],
   "source": [
    "from sklearn.discriminant_analysis import QuadraticDiscriminantAnalysis\n",
    "from sklearn.model_selection import train_test_split\n",
    "from sklearn.metrics import confusion_matrix, accuracy_score, roc_curve\n",
    "\n",
    "X = numeric_data\n",
    "y = df['Ciudad']"
   ]
  },
  {
   "cell_type": "code",
   "execution_count": 10,
   "metadata": {},
   "outputs": [
    {
     "name": "stdout",
     "output_type": "stream",
     "text": [
      "Las dimensiones de X son: (2558, 8)\n",
      "Las dimensiones de y son: (2558,)\n"
     ]
    }
   ],
   "source": [
    "print('Las dimensiones de X son:', X.shape)\n",
    "print('Las dimensiones de y son:', y.shape)"
   ]
  },
  {
   "cell_type": "markdown",
   "metadata": {},
   "source": [
    "#### 1.2.1. Validación cruzada del modelo"
   ]
  },
  {
   "cell_type": "code",
   "execution_count": 11,
   "metadata": {},
   "outputs": [],
   "source": [
    "from sklearn.model_selection import KFold\n",
    "\n",
    "accs_scores = []\n",
    "conf_matrixs_scores = []\n",
    "\n",
    "for i in range(20):\n",
    "    random_seed = np.random.randint(0, 1000)\n",
    "    kf = KFold(n_splits=33, shuffle=True, random_state=random_seed)\n",
    "    accs = []\n",
    "    conf_matrixs = []\n",
    "\n",
    "    for train_index, test_index in kf.split(X):\n",
    "        X_train, X_test = X.iloc[train_index], X.iloc[test_index]\n",
    "        y_train, y_test = y.iloc[train_index], y.iloc[test_index]\n",
    "        \n",
    "        model = QuadraticDiscriminantAnalysis()\n",
    "        model.fit(X_train, y_train)\n",
    "        y_pred = model.predict(X_test)\n",
    "\n",
    "        acc = accuracy_score(y_test, y_pred)\n",
    "        accs.append(acc)\n",
    "\n",
    "        conf_matrix = confusion_matrix(y_test, y_pred)\n",
    "        conf_matrixs.append(conf_matrix)\n",
    "\n",
    "    accs_scores.append(np.mean(accs))\n",
    "    conf_matrixs_scores.append(np.mean(conf_matrixs, axis=0))"
   ]
  },
  {
   "cell_type": "markdown",
   "metadata": {},
   "source": [
    "Al usar KFold con el parémtro de n_splits=33, es que se van a hacer 33 particiones distintas en el dataset para train y test. De esta forma, el dataset original contiene 2558 observaciones, por lo que las particiones e teat van a quedar de aproximadamente 77 observaciones en cada una de las iteraciones. Hacerlo de esta forma permite hacer la validación cruzada.\n",
    "\n",
    "Taambie, se repite el experimetno 20 veces, lo que a un total de 660 entrenamientos y validaciones para verificar la veracidad de los resultados."
   ]
  },
  {
   "cell_type": "code",
   "execution_count": 12,
   "metadata": {},
   "outputs": [
    {
     "name": "stdout",
     "output_type": "stream",
     "text": [
      "Accuracy: 82.70% +/- 0.14%\n"
     ]
    }
   ],
   "source": [
    "print(f'Accuracy: {np.mean(accs_scores) * 100.:.2f}% +/- {np.std(accs_scores) * 100.:.2f}%')"
   ]
  },
  {
   "cell_type": "code",
   "execution_count": 13,
   "metadata": {},
   "outputs": [
    {
     "data": {
      "image/png": "[encoded data removed]",
      "text/plain": [
       "<Figure size 640x480 with 2 Axes>"
      ]
     },
     "metadata": {},
     "output_type": "display_data"
    }
   ],
   "source": [
    "mean_conf_matrix = np.round(np.mean(conf_matrixs_scores, axis=0))\n",
    "\n",
    "# Mostrar la matriz de confusión promedio\n",
    "etiquetas = np.unique(y)\n",
    "sns.heatmap(mean_conf_matrix, annot=True, fmt='g', cmap='Blues')\n",
    "plt.xlabel('Predicted', fontsize=14)\n",
    "plt.ylabel('True', fontsize=14)\n",
    "plt.title('Confusion matrix')\n",
    "plt.xticks(ticks=np.arange(len(etiquetas)) + 0.5, labels=etiquetas)\n",
    "plt.yticks(ticks=np.arange(len(etiquetas)) + 0.5, labels=etiquetas)\n",
    "plt.show()"
   ]
  },
  {
   "cell_type": "markdown",
   "metadata": {},
   "source": [
    "Hola."
   ]
  },
  {
   "cell_type": "markdown",
   "metadata": {},
   "source": [
    "## 2. Clasificación con KNN"
   ]
  },
  {
   "cell_type": "code",
   "execution_count": 14,
   "metadata": {},
   "outputs": [],
   "source": [
    "from sklearn.neighbors import KNeighborsClassifier\n",
    "\n",
    "accs_scores = []\n",
    "conf_matrixs_scores = []\n",
    "\n",
    "for i in range(20):\n",
    "    kf = KFold(n_splits=33, shuffle=True, random_state=42)\n",
    "    accs = []\n",
    "    conf_matrixs = []\n",
    "\n",
    "    for train_index, test_index in kf.split(X):\n",
    "        X_train, X_test = X.iloc[train_index], X.iloc[test_index]\n",
    "        y_train, y_test = y.iloc[train_index], y.iloc[test_index]\n",
    "        \n",
    "        model = KNeighborsClassifier(n_neighbors=5)\n",
    "        model.fit(X_train, y_train)\n",
    "        y_pred = model.predict(X_test)\n",
    "\n",
    "        acc = accuracy_score(y_test, y_pred)\n",
    "        accs.append(acc)\n",
    "\n",
    "        conf_matrix = confusion_matrix(y_test, y_pred)\n",
    "        conf_matrixs.append(conf_matrix)\n",
    "\n",
    "    accs_scores.append(np.mean(accs))\n",
    "    conf_matrixs_scores.append(np.mean(conf_matrixs, axis=0))"
   ]
  },
  {
   "cell_type": "code",
   "execution_count": 15,
   "metadata": {},
   "outputs": [
    {
     "name": "stdout",
     "output_type": "stream",
     "text": [
      "Accuracy: 81.40% +/- 0.00%\n"
     ]
    }
   ],
   "source": [
    "print(f'Accuracy: {np.mean(accs_scores) * 100.:.2f}% +/- {np.std(accs_scores) * 100.:.2f}%')"
   ]
  },
  {
   "cell_type": "code",
   "execution_count": 16,
   "metadata": {},
   "outputs": [
    {
     "data": {
      "image/png": "[encoded data removed]",
      "text/plain": [
       "<Figure size 640x480 with 2 Axes>"
      ]
     },
     "metadata": {},
     "output_type": "display_data"
    }
   ],
   "source": [
    "# Mostrar la matriz de confusión promedio\n",
    "mean_conf_matrix = np.round(np.mean(conf_matrixs_scores, axis=0))\n",
    "\n",
    "etiquetas = np.unique(y)\n",
    "sns.heatmap(mean_conf_matrix, annot=True, fmt='g', cmap='Blues')\n",
    "plt.xlabel('Predicted', fontsize=14)\n",
    "plt.ylabel('True', fontsize=14)\n",
    "plt.title('Confusion matrix')\n",
    "plt.xticks(ticks=np.arange(len(etiquetas)) + 0.5, labels=etiquetas)\n",
    "plt.yticks(ticks=np.arange(len(etiquetas)) + 0.5, labels=etiquetas)\n",
    "plt.show()"
   ]
  },
  {
   "cell_type": "markdown",
   "metadata": {},
   "source": [
    "## 3. Clasificación usando Decision Trees"
   ]
  },
  {
   "cell_type": "code",
   "execution_count": 17,
   "metadata": {},
   "outputs": [],
   "source": [
    "from sklearn.tree import DecisionTreeClassifier\n",
    "\n",
    "accs_scores = []\n",
    "conf_matrixs_scores = []\n",
    "\n",
    "for i in range(20):\n",
    "    kf = KFold(n_splits=33, shuffle=True, random_state=42)\n",
    "    accs = []\n",
    "    conf_matrixs = []\n",
    "\n",
    "    for train_index, test_index in kf.split(X):\n",
    "        X_train, X_test = X.iloc[train_index], X.iloc[test_index]\n",
    "        y_train, y_test = y.iloc[train_index], y.iloc[test_index]\n",
    "        \n",
    "        model = DecisionTreeClassifier(max_depth=7)\n",
    "        model.fit(X_train, y_train)\n",
    "        y_pred = model.predict(X_test)\n",
    "\n",
    "        acc = accuracy_score(y_test, y_pred)\n",
    "        accs.append(acc)\n",
    "\n",
    "        conf_matrix = confusion_matrix(y_test, y_pred)\n",
    "        conf_matrixs.append(conf_matrix)\n",
    "\n",
    "    accs_scores.append(np.mean(accs))\n",
    "    conf_matrixs_scores.append(np.mean(conf_matrixs, axis=0))"
   ]
  },
  {
   "cell_type": "code",
   "execution_count": 18,
   "metadata": {},
   "outputs": [
    {
     "name": "stdout",
     "output_type": "stream",
     "text": [
      "Accuracy: 79.16% +/- 0.08%\n"
     ]
    }
   ],
   "source": [
    "print(f'Accuracy: {np.mean(accs_scores) * 100.:.2f}% +/- {np.std(accs_scores) * 100.:.2f}%')"
   ]
  },
  {
   "cell_type": "code",
   "execution_count": 19,
   "metadata": {},
   "outputs": [
    {
     "data": {
      "image/png": "[encoded data removed]",
      "text/plain": [
       "<Figure size 640x480 with 2 Axes>"
      ]
     },
     "metadata": {},
     "output_type": "display_data"
    }
   ],
   "source": [
    "mean_conf_matrix = np.round(np.mean(conf_matrixs_scores, axis=0))\n",
    "\n",
    "etiquetas = np.unique(y)\n",
    "sns.heatmap(mean_conf_matrix, annot=True, fmt='g', cmap='Blues')\n",
    "plt.xlabel('Predicted', fontsize=14)\n",
    "plt.ylabel('True', fontsize=14)\n",
    "plt.title('Confusion matrix')\n",
    "plt.xticks(ticks=np.arange(len(etiquetas)) + 0.5, labels=etiquetas)\n",
    "plt.yticks(ticks=np.arange(len(etiquetas)) + 0.5, labels=etiquetas)\n",
    "plt.show()"
   ]
  },
  {
   "cell_type": "markdown",
   "metadata": {},
   "source": [
    "## 4. Clasificación usando SVM"
   ]
  },
  {
   "cell_type": "code",
   "execution_count": 20,
   "metadata": {},
   "outputs": [],
   "source": [
    "from sklearn.svm import SVC\n",
    "\n",
    "accs_scores = []\n",
    "conf_matrixs_scores = []\n",
    "\n",
    "for i in range(20):\n",
    "    kf = KFold(n_splits=33, shuffle=True, random_state=42)\n",
    "    accs = []\n",
    "    conf_matrixs = []\n",
    "\n",
    "    for train_index, test_index in kf.split(X):\n",
    "        X_train, X_test = X.iloc[train_index], X.iloc[test_index]\n",
    "        y_train, y_test = y.iloc[train_index], y.iloc[test_index]\n",
    "        \n",
    "        model = SVC(kernel='linear')\n",
    "        model.fit(X_train, y_train)\n",
    "        y_pred = model.predict(X_test)\n",
    "\n",
    "        acc = accuracy_score(y_test, y_pred)\n",
    "        accs.append(acc)\n",
    "\n",
    "        conf_matrix = confusion_matrix(y_test, y_pred)\n",
    "        conf_matrixs.append(conf_matrix)\n",
    "\n",
    "    accs_scores.append(np.mean(accs))\n",
    "    conf_matrixs_scores.append(np.mean(conf_matrixs, axis=0))"
   ]
  },
  {
   "cell_type": "code",
   "execution_count": 21,
   "metadata": {},
   "outputs": [
    {
     "name": "stdout",
     "output_type": "stream",
     "text": [
      "Accuracy: 79.09% +/- 0.00%\n"
     ]
    }
   ],
   "source": [
    "print(f'Accuracy: {np.mean(accs_scores) * 100.:.2f}% +/- {np.std(accs_scores) * 100.:.2f}%')"
   ]
  },
  {
   "cell_type": "code",
   "execution_count": 22,
   "metadata": {},
   "outputs": [
    {
     "data": {
      "image/png": "[encoded data removed]",
      "text/plain": [
       "<Figure size 640x480 with 2 Axes>"
      ]
     },
     "metadata": {},
     "output_type": "display_data"
    }
   ],
   "source": [
    "mean_conf_matrix = np.round(np.mean(conf_matrixs_scores, axis=0))\n",
    "\n",
    "etiquetas = np.unique(y)\n",
    "sns.heatmap(mean_conf_matrix, annot=True, fmt='g', cmap='Blues')\n",
    "plt.xlabel('Predicted', fontsize=14)\n",
    "plt.ylabel('True', fontsize=14)\n",
    "plt.title('Confusion matrix')\n",
    "plt.xticks(ticks=np.arange(len(etiquetas)) + 0.5, labels=etiquetas)\n",
    "plt.yticks(ticks=np.arange(len(etiquetas)) + 0.5, labels=etiquetas)\n",
    "plt.show()"
   ]
  }
 ],
 "metadata": {
  "kernelspec": {
   "display_name": "base",
   "language": "python",
   "name": "python3"
  },
  "language_info": {
   "codemirror_mode": {
    "name": "ipython",
    "version": 3
   },
   "file_extension": ".py",
   "mimetype": "text/x-python",
   "name": "python",
   "nbconvert_exporter": "python",
   "pygments_lexer": "ipython3",
   "version": "3.12.4"
  }
 },
 "nbformat": 4,
 "nbformat_minor": 2
}
