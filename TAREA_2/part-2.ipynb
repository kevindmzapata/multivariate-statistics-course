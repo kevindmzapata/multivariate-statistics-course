{
 "cells": [
  {
   "cell_type": "markdown",
   "metadata": {},
   "source": [
    "# TAREA NO. 2 - Estadística Multivariada. Análisis discriminante"
   ]
  },
  {
   "cell_type": "code",
   "execution_count": 1,
   "metadata": {},
   "outputs": [],
   "source": [
    "import numpy as np\n",
    "import pandas as pd\n",
    "import matplotlib.pyplot as plt\n",
    "import seaborn as sns\n",
    "import time"
   ]
  },
  {
   "cell_type": "code",
   "execution_count": 2,
   "metadata": {},
   "outputs": [
    {
     "data": {
      "text/html": [
       "<div>\n",
       "<style scoped>\n",
       "    .dataframe tbody tr th:only-of-type {\n",
       "        vertical-align: middle;\n",
       "    }\n",
       "\n",
       "    .dataframe tbody tr th {\n",
       "        vertical-align: top;\n",
       "    }\n",
       "\n",
       "    .dataframe thead th {\n",
       "        text-align: right;\n",
       "    }\n",
       "</style>\n",
       "<table border=\"1\" class=\"dataframe\">\n",
       "  <thead>\n",
       "    <tr style=\"text-align: right;\">\n",
       "      <th></th>\n",
       "      <th>Ciudad</th>\n",
       "      <th>Altitud</th>\n",
       "      <th>Año</th>\n",
       "      <th>Mes</th>\n",
       "      <th>Día</th>\n",
       "      <th>T.Max</th>\n",
       "      <th>T.Min</th>\n",
       "      <th>T.media</th>\n",
       "      <th>Dir.Viento</th>\n",
       "      <th>Vel.Viento</th>\n",
       "      <th>Precipitación</th>\n",
       "      <th>Sol</th>\n",
       "      <th>Presión.máx</th>\n",
       "      <th>Presión.min</th>\n",
       "    </tr>\n",
       "  </thead>\n",
       "  <tbody>\n",
       "    <tr>\n",
       "      <th>0</th>\n",
       "      <td>Huelva</td>\n",
       "      <td>19</td>\n",
       "      <td>1990</td>\n",
       "      <td>1</td>\n",
       "      <td>1</td>\n",
       "      <td>15.4</td>\n",
       "      <td>9.4</td>\n",
       "      <td>12.4</td>\n",
       "      <td>300</td>\n",
       "      <td>1.9</td>\n",
       "      <td>9.5</td>\n",
       "      <td>1.8</td>\n",
       "      <td>1020.0</td>\n",
       "      <td>1016.3</td>\n",
       "    </tr>\n",
       "    <tr>\n",
       "      <th>1</th>\n",
       "      <td>Huelva</td>\n",
       "      <td>19</td>\n",
       "      <td>1990</td>\n",
       "      <td>1</td>\n",
       "      <td>2</td>\n",
       "      <td>14.6</td>\n",
       "      <td>6.0</td>\n",
       "      <td>10.3</td>\n",
       "      <td>270</td>\n",
       "      <td>2.8</td>\n",
       "      <td>20.8</td>\n",
       "      <td>2.0</td>\n",
       "      <td>1020.9</td>\n",
       "      <td>1011.4</td>\n",
       "    </tr>\n",
       "    <tr>\n",
       "      <th>2</th>\n",
       "      <td>Huelva</td>\n",
       "      <td>19</td>\n",
       "      <td>1990</td>\n",
       "      <td>1</td>\n",
       "      <td>3</td>\n",
       "      <td>13.2</td>\n",
       "      <td>8.2</td>\n",
       "      <td>10.7</td>\n",
       "      <td>270</td>\n",
       "      <td>3.1</td>\n",
       "      <td>2.0</td>\n",
       "      <td>4.0</td>\n",
       "      <td>1017.4</td>\n",
       "      <td>1010.0</td>\n",
       "    </tr>\n",
       "    <tr>\n",
       "      <th>3</th>\n",
       "      <td>Huelva</td>\n",
       "      <td>19</td>\n",
       "      <td>1990</td>\n",
       "      <td>1</td>\n",
       "      <td>4</td>\n",
       "      <td>15.2</td>\n",
       "      <td>6.2</td>\n",
       "      <td>10.7</td>\n",
       "      <td>10</td>\n",
       "      <td>2.2</td>\n",
       "      <td>0.0</td>\n",
       "      <td>5.4</td>\n",
       "      <td>1024.6</td>\n",
       "      <td>1017.4</td>\n",
       "    </tr>\n",
       "    <tr>\n",
       "      <th>4</th>\n",
       "      <td>Huelva</td>\n",
       "      <td>19</td>\n",
       "      <td>1990</td>\n",
       "      <td>1</td>\n",
       "      <td>5</td>\n",
       "      <td>15.2</td>\n",
       "      <td>9.2</td>\n",
       "      <td>12.2</td>\n",
       "      <td>70</td>\n",
       "      <td>1.7</td>\n",
       "      <td>0.0</td>\n",
       "      <td>3.1</td>\n",
       "      <td>1027.3</td>\n",
       "      <td>1024.6</td>\n",
       "    </tr>\n",
       "  </tbody>\n",
       "</table>\n",
       "</div>"
      ],
      "text/plain": [
       "   Ciudad  Altitud   Año  Mes  Día  T.Max  T.Min  T.media  Dir.Viento  \\\n",
       "0  Huelva       19  1990    1    1   15.4    9.4     12.4         300   \n",
       "1  Huelva       19  1990    1    2   14.6    6.0     10.3         270   \n",
       "2  Huelva       19  1990    1    3   13.2    8.2     10.7         270   \n",
       "3  Huelva       19  1990    1    4   15.2    6.2     10.7          10   \n",
       "4  Huelva       19  1990    1    5   15.2    9.2     12.2          70   \n",
       "\n",
       "   Vel.Viento  Precipitación  Sol  Presión.máx  Presión.min  \n",
       "0         1.9            9.5  1.8       1020.0       1016.3  \n",
       "1         2.8           20.8  2.0       1020.9       1011.4  \n",
       "2         3.1            2.0  4.0       1017.4       1010.0  \n",
       "3         2.2            0.0  5.4       1024.6       1017.4  \n",
       "4         1.7            0.0  3.1       1027.3       1024.6  "
      ]
     },
     "execution_count": 2,
     "metadata": {},
     "output_type": "execute_result"
    }
   ],
   "source": [
    "df = pd.read_csv('discriminante.csv')\n",
    "df.head()"
   ]
  },
  {
   "cell_type": "code",
   "execution_count": 3,
   "metadata": {},
   "outputs": [
    {
     "data": {
      "text/plain": [
       "Ciudad           0\n",
       "Altitud          0\n",
       "Año              0\n",
       "Mes              0\n",
       "Día              0\n",
       "T.Max            0\n",
       "T.Min            0\n",
       "T.media          0\n",
       "Dir.Viento       0\n",
       "Vel.Viento       0\n",
       "Precipitación    0\n",
       "Sol              0\n",
       "Presión.máx      0\n",
       "Presión.min      0\n",
       "dtype: int64"
      ]
     },
     "execution_count": 3,
     "metadata": {},
     "output_type": "execute_result"
    }
   ],
   "source": [
    "# Eliminar los valores nulos\n",
    "df = df.dropna()\n",
    "df.isnull().sum()"
   ]
  },
  {
   "cell_type": "code",
   "execution_count": 4,
   "metadata": {},
   "outputs": [],
   "source": [
    "from sklearn.preprocessing import LabelEncoder\n",
    "\n",
    "y = df['Ciudad']\n",
    "etiquetas = np.unique(y)\n",
    "le = LabelEncoder().fit(y)\n",
    "y = le.transform(y)"
   ]
  },
  {
   "cell_type": "code",
   "execution_count": 5,
   "metadata": {},
   "outputs": [],
   "source": [
    "X = df.select_dtypes(include='float64').values"
   ]
  },
  {
   "cell_type": "code",
   "execution_count": 6,
   "metadata": {},
   "outputs": [
    {
     "data": {
      "text/plain": [
       "((2553, 8), (2553,))"
      ]
     },
     "execution_count": 6,
     "metadata": {},
     "output_type": "execute_result"
    }
   ],
   "source": [
    "X.shape, y.shape"
   ]
  },
  {
   "cell_type": "markdown",
   "metadata": {},
   "source": [
    "## 1. Análisis Discriminante\n",
    "\n",
    "### 1.1. Determinar la Multinormalidad de los datos\n",
    "\n",
    "Para realizar un análisis discriminante, es importante verificar si los datos son aproximadamente multinormales, ya que este tipo de análisis asume que las variables tienen una distribución normal multivariada. Vamos a realizar una prueba de normalidad multivariada como la prueba de Mardia."
   ]
  },
  {
   "cell_type": "code",
   "execution_count": 7,
   "metadata": {},
   "outputs": [
    {
     "name": "stdout",
     "output_type": "stream",
     "text": [
      "Variable 0: Estadístico=0.9824415567353841, p=3.137109499352696e-17 La muestra no parece Gaussiana (se rechaza H0)\n",
      "Variable 1: Estadístico=0.9886241502940892, p=2.1440662291833924e-13 La muestra no parece Gaussiana (se rechaza H0)\n",
      "Variable 2: Estadístico=0.97838432361053, p=2.9629652602158975e-19 La muestra no parece Gaussiana (se rechaza H0)\n",
      "Variable 3: Estadístico=0.958315415148002, p=1.8719265306072852e-26 La muestra no parece Gaussiana (se rechaza H0)\n",
      "Variable 4: Estadístico=0.34329594887067794, p=4.761299164648623e-70 La muestra no parece Gaussiana (se rechaza H0)\n",
      "Variable 5: Estadístico=0.9389075169581362, p=3.302377746965693e-31 La muestra no parece Gaussiana (se rechaza H0)\n",
      "Variable 6: Estadístico=0.9103476639298589, p=2.14930222992852e-36 La muestra no parece Gaussiana (se rechaza H0)\n",
      "Variable 7: Estadístico=0.9188019654637507, p=5.148729965573072e-35 La muestra no parece Gaussiana (se rechaza H0)\n"
     ]
    }
   ],
   "source": [
    "from scipy.stats import shapiro\n",
    "\n",
    "# Test de Shapiro-Wilk para la normalidad univariante para X_train_val\n",
    "for i in range(X.shape[1]):\n",
    "    stat, p = shapiro(X[:, i])\n",
    "    print(f'Variable {i}: Estadístico={stat}, p={p}', end=' ')\n",
    "    alpha = 0.05\n",
    "    if p > alpha:\n",
    "        print('La muestra parece Gaussiana (no se rechaza H0)')\n",
    "    else:\n",
    "        print('La muestra no parece Gaussiana (se rechaza H0)')"
   ]
  },
  {
   "cell_type": "code",
   "execution_count": 8,
   "metadata": {},
   "outputs": [
    {
     "data": {
      "text/plain": [
       "HZResults(hz=15.014736969291704, pval=0.0, normal=False)"
      ]
     },
     "execution_count": 8,
     "metadata": {},
     "output_type": "execute_result"
    }
   ],
   "source": [
    "from pingouin import multivariate_normality\n",
    "\n",
    "# Test de Mardia para la normalidad multivariante\n",
    "mardia_test = multivariate_normality(X, alpha=0.05)\n",
    "mardia_test"
   ]
  },
  {
   "cell_type": "markdown",
   "metadata": {},
   "source": [
    "Los resultados de la prueba de Shapiro-Wilk para la normalidad univariante de las variables numéricas indican que el conjunto de datos no sigue una distribución multinormal (requisito de normalidad multivariante). Además, la prueba de multinormalidad muestra que no hay normalidad multivariante, lo cual afecta la posibilidad de aplicar un análisis discriminante lineal (LDA), que asume normalidad en las clases. Sin embargo, aún podemos intentar aplicar Análisis Discriminante Cuadrático (QDA), que es más flexible y no requiere la estricta normalidad.\n",
    "\n",
    "### 1.2. Análisis Discriminante Cuadrático (QDA)"
   ]
  },
  {
   "cell_type": "markdown",
   "metadata": {},
   "source": [
    "El uso de la función GridSearchCV permite hacer la validacion cruzada del conjunto de datos de entrenamiento, partiendo los datos en train y validation según el parámetro ‘cv’ que le ingresamos que determina el número de particiones que se van a hacer para finalmente calcular la media de la métrica usada, en este caso accuracy, y extraer el mejor modelo de clasificación.\n",
    "\n",
    "De esta forma, el dataset esta divido en 3 partes: i) los datos de test que están completamente aislados de los datos de entrenamiento y validación y solo se ace uso de ellos para calcular la precisión en test y la matriz de confusión, ii) los datos restantes que se dividen así mismos en 2 partes que son entrenamiento y validación, pero estas particiones no son fijas ya que en cada una de las iteraciones cambian los valores, lo que permie hacer la validación cruzada.\n"
   ]
  },
  {
   "cell_type": "code",
   "execution_count": 9,
   "metadata": {},
   "outputs": [
    {
     "name": "stdout",
     "output_type": "stream",
     "text": [
      "Mejor modelo: {'reg_param': 0.1}\n"
     ]
    }
   ],
   "source": [
    "from sklearn.discriminant_analysis import QuadraticDiscriminantAnalysis\n",
    "from sklearn.model_selection import GridSearchCV\n",
    "from sklearn.metrics import confusion_matrix, accuracy_score\n",
    "from sklearn.preprocessing import StandardScaler\n",
    "from sklearn.model_selection import train_test_split\n",
    "\n",
    "# Dividir los datos en entrenamiento y prueba\n",
    "X_train, X_test, y_train, y_test = train_test_split(X, y, test_size=70, random_state=42)\n",
    "\n",
    "# Estandarizar los datos\n",
    "scaler = StandardScaler().fit(X_train)\n",
    "X_train = scaler.transform(X_train)\n",
    "X_test = scaler.transform(X_test)\n",
    "\n",
    "# Crear el modelo\n",
    "grid = {'reg_param': [0.0, 0.1, 0.2, 0.3, 0.4, 0.5]}\n",
    "model = QuadraticDiscriminantAnalysis()\n",
    "model = GridSearchCV(model, grid, cv=5, n_jobs=-1, scoring='accuracy')\n",
    "model.fit(X_train, y_train)\n",
    "\n",
    "print('Mejor modelo:', model.best_params_)"
   ]
  },
  {
   "cell_type": "code",
   "execution_count": 10,
   "metadata": {},
   "outputs": [
    {
     "name": "stdout",
     "output_type": "stream",
     "text": [
      "Accuracy: 0.90\n"
     ]
    }
   ],
   "source": [
    "best_model = model.best_estimator_\n",
    "y_pred = best_model.predict(X_test)\n",
    "\n",
    "print(f'Accuracy: {accuracy_score(y_test, y_pred):0.2f}')"
   ]
  },
  {
   "cell_type": "code",
   "execution_count": 11,
   "metadata": {},
   "outputs": [
    {
     "name": "stdout",
     "output_type": "stream",
     "text": [
      "47.2 ms ± 4.87 ms per loop (mean ± std. dev. of 7 runs, 10 loops each)\n"
     ]
    }
   ],
   "source": [
    "%timeit model.fit(X_train, y_train)"
   ]
  },
  {
   "cell_type": "code",
   "execution_count": 12,
   "metadata": {},
   "outputs": [
    {
     "data": {
      "image/png": "[encoded data removed]",
      "text/plain": [
       "<Figure size 640x480 with 2 Axes>"
      ]
     },
     "metadata": {},
     "output_type": "display_data"
    }
   ],
   "source": [
    "conf_mat = confusion_matrix(y_test, y_pred)\n",
    "\n",
    "# Graicar la matriz de confusión\n",
    "sns.heatmap(conf_mat, annot=True, fmt='d', cmap='Blues')\n",
    "plt.xlabel('Predicted')\n",
    "plt.ylabel('True')\n",
    "plt.xticks(ticks=[0.5, 1.5, 2.5], labels=etiquetas)\n",
    "plt.yticks(ticks=[0.5, 1.5, 2.5], labels=etiquetas)\n",
    "plt.show()"
   ]
  },
  {
   "cell_type": "markdown",
   "metadata": {},
   "source": [
    "El modelo de clasificación usando un análisis discriminante cuadrático arroja una precisión mayor al 80%. Para obtener este resultado, se hizo validación cruzada con 5 particiones buscando el mejor parámetro para este conjunto de datos.\n",
    "\n",
    "La matriz de confusión muestra que la clase que mejor rendimiento obtuvo fue la de Vigo, o sesa, fue la que menos errores de clasificación hay. Sin embargo, las otras dos clases, al tener unos pocos errores más que 'Vigo', afecta notablemente el rendimiento general del modelo de clasificación."
   ]
  },
  {
   "cell_type": "markdown",
   "metadata": {},
   "source": [
    "## 2. Clasificación usando KNN\n",
    "\n",
    "KNN es un algoritmo de aprendizaje supervisado que utiliza la proximidad para clasificar o predecir el grupo al que pertenece un nuevo punto de datos. En términos sencillos, KNN \"mira\" a los puntos de datos más cercanos (los \"k\" vecinos más cercanos) a un nuevo punto y asigna a este nuevo punto la clase que es más común entre sus vecinos.\n",
    "\n",
    "Ventajas:\n",
    "\n",
    "- Simple de entender e implementar: No requiere de muchos ajustes de parámetros.\n",
    "- Versátil: Puede utilizarse tanto para clasificación como para regresión.\n",
    "- No paramétrico: No asume una distribución particular de los datos."
   ]
  },
  {
   "cell_type": "code",
   "execution_count": 13,
   "metadata": {},
   "outputs": [
    {
     "name": "stdout",
     "output_type": "stream",
     "text": [
      "Mejor modelo: {'n_neighbors': 11}\n"
     ]
    }
   ],
   "source": [
    "from sklearn.neighbors import KNeighborsClassifier\n",
    "\n",
    "# Crear el modelo\n",
    "grid = {'n_neighbors': [3, 5, 7, 9, 11, 15, 21, 25]}\n",
    "model = KNeighborsClassifier()\n",
    "model = GridSearchCV(model, grid, cv=5, n_jobs=-1, scoring='accuracy')\n",
    "model.fit(X_train, y_train)\n",
    "\n",
    "print('Mejor modelo:', model.best_params_)"
   ]
  },
  {
   "cell_type": "code",
   "execution_count": 14,
   "metadata": {},
   "outputs": [
    {
     "name": "stdout",
     "output_type": "stream",
     "text": [
      "Accuracy: 0.87\n"
     ]
    }
   ],
   "source": [
    "best_model = model.best_estimator_\n",
    "y_pred = best_model.predict(X_test)\n",
    "\n",
    "print(f'Accuracy: {accuracy_score(y_test, y_pred):0.2f}')"
   ]
  },
  {
   "cell_type": "code",
   "execution_count": 15,
   "metadata": {},
   "outputs": [
    {
     "name": "stdout",
     "output_type": "stream",
     "text": [
      "152 ms ± 2 ms per loop (mean ± std. dev. of 7 runs, 10 loops each)\n"
     ]
    }
   ],
   "source": [
    "%timeit model.fit(X_train, y_train)"
   ]
  },
  {
   "cell_type": "code",
   "execution_count": 16,
   "metadata": {},
   "outputs": [
    {
     "data": {
      "image/png": "[encoded data removed]",
      "text/plain": [
       "<Figure size 640x480 with 2 Axes>"
      ]
     },
     "metadata": {},
     "output_type": "display_data"
    }
   ],
   "source": [
    "conf_mat = confusion_matrix(y_test, y_pred)\n",
    "\n",
    "# Graicar la matriz de confusión\n",
    "sns.heatmap(conf_mat, annot=True, fmt='d', cmap='Blues')\n",
    "plt.xlabel('Predicted')\n",
    "plt.ylabel('True')\n",
    "plt.xticks(ticks=[0.5, 1.5, 2.5], labels=etiquetas)\n",
    "plt.yticks(ticks=[0.5, 1.5, 2.5], labels=etiquetas)\n",
    "plt.show()"
   ]
  },
  {
   "cell_type": "markdown",
   "metadata": {},
   "source": [
    "## 3. Clasificación usando SVM"
   ]
  },
  {
   "cell_type": "markdown",
   "metadata": {},
   "source": [
    "SVM es un algoritmo de aprendizaje supervisado que busca encontrar el mejor hiperplano que separa dos clases de datos. En términos más simples, SVM trata de encontrar la línea (o hiperplano en dimensiones superiores) que maximiza la distancia entre los puntos de datos de diferentes clases.\n",
    "\n",
    "Ventajas:\n",
    "\n",
    "- Alto rendimiento: Suele obtener buenos resultados en muchos problemas de clasificación.\n",
    "- Robusto a la sobreajustamiento: Gracias a la maximización del margen.\n",
    "- Versátil: Puede utilizarse para clasificación lineal y no lineal."
   ]
  },
  {
   "cell_type": "code",
   "execution_count": 17,
   "metadata": {},
   "outputs": [
    {
     "name": "stdout",
     "output_type": "stream",
     "text": [
      "Mejor modelo: {'C': 10, 'gamma': 0.1}\n"
     ]
    }
   ],
   "source": [
    "from sklearn.svm import SVC\n",
    "\n",
    "# Crear el modelo\n",
    "grid = {'C': [0.1, 1, 10, 100, 1000], 'gamma': [1, 0.1, 0.01, 0.001, 0.0001]}\n",
    "model = SVC()\n",
    "model = GridSearchCV(model, grid, cv=5, n_jobs=-1, scoring='accuracy')\n",
    "model.fit(X_train, y_train)\n",
    "\n",
    "print('Mejor modelo:', model.best_params_)"
   ]
  },
  {
   "cell_type": "code",
   "execution_count": 18,
   "metadata": {},
   "outputs": [
    {
     "name": "stdout",
     "output_type": "stream",
     "text": [
      "Accuracy: 0.91\n"
     ]
    }
   ],
   "source": [
    "best_model = model.best_estimator_\n",
    "y_pred = best_model.predict(X_test)\n",
    "\n",
    "print(f'Accuracy: {accuracy_score(y_test, y_pred):0.2f}')"
   ]
  },
  {
   "cell_type": "code",
   "execution_count": 19,
   "metadata": {},
   "outputs": [
    {
     "name": "stdout",
     "output_type": "stream",
     "text": [
      "2.5 s ± 54.5 ms per loop (mean ± std. dev. of 7 runs, 1 loop each)\n"
     ]
    }
   ],
   "source": [
    "%timeit model.fit(X_train, y_train)"
   ]
  },
  {
   "cell_type": "code",
   "execution_count": 20,
   "metadata": {},
   "outputs": [
    {
     "data": {
      "image/png": "[encoded data removed]",
      "text/plain": [
       "<Figure size 640x480 with 2 Axes>"
      ]
     },
     "metadata": {},
     "output_type": "display_data"
    }
   ],
   "source": [
    "conf_mat = confusion_matrix(y_test, y_pred)\n",
    "\n",
    "# Graicar la matriz de confusión\n",
    "sns.heatmap(conf_mat, annot=True, fmt='d', cmap='Blues')\n",
    "plt.xlabel('Predicted')\n",
    "plt.ylabel('True')\n",
    "plt.xticks(ticks=[0.5, 1.5, 2.5], labels=etiquetas)\n",
    "plt.yticks(ticks=[0.5, 1.5, 2.5], labels=etiquetas)\n",
    "plt.show()"
   ]
  },
  {
   "cell_type": "markdown",
   "metadata": {},
   "source": [
    "El rendimiento usando SMV es bastante alto, sin embargo, la complejidad computacional del modelo es algo para evaluar, ya que es un modelo bastante robusto y para encontrar sus mejores parámetros suele ser una tarea bastante compleja computacionalmente, mas cuando se quiere hacer una búsqueda exhaustiva y cuando son muchos datos."
   ]
  },
  {
   "cell_type": "markdown",
   "metadata": {},
   "source": [
    "## 4. Conclusiones\n",
    "\n",
    "#### 4.1. Análisis de los resultados\n",
    "\n",
    "Según los resultados obtenidos, se podría decir que las condiciones ambientales entre las ciudades de Huelva y Palma de Mallorca son ligeramente similares entre ellas, ya que los tres clasificadores fallaron en algunas observaciones, mientras que la ciudad de Vigo es la que tiene las condiciones más diferenciadas según los tres clasificadores. Sin embargo, esto es en términos generales, ya que el análisis se podría hacer desde el punto de vista de los años y no de las ciudades, o podría hacerse un análisis según los meses del año para identificar en que meses del año las condiciones ambientales son similares en las ciudades.\n",
    "\n",
    "##### 4.2. Mejor modelo de clasificación\n",
    "La selección del mejor modelo para el conjunto de datos es un tema complejo ya que depende de muchos factores como la trama de entrenamiento que se use, la cantidad de datos que se usen para entrenamiento o como se parametrizan los modelo. En este caso, se exploró el uso del análisis discriminante cuadrático, k vecinos más cercanos y las maquinas de soporte vectorial, siendo que maquinas de soporte vectorial es la que mejores resultados da, haciendo la respectiva validación cruzada con 5 particiones y encontrando los mejores parámetros en una rejilla definida, ya que este es el mas robusto de los 3 modelos.\n",
    "\n",
    "Finalmente, los 3 modelos mostrados presentan resultados similares en cuanto a la matriz de confusión, siendo la clase ‘Vigo’ la que mejor porcentaje de clasificación tiene, y las demás son las que bajan el rendimiento general. Una posible solución a este problema seria aumentar el peso de las dos variables que tienen rendimiento bajo con el fin de diseñar un modelo mas general sobre este conjunto de datos.\n",
    "\n",
    "##### 4.3. Complejidad computacional\n",
    "\n",
    "En cuanto al tiempo de entrenamiento de cada una de las técnicas, podemos ver que efectivamente SVM es mucho mas lento que los otros dos métodos, esto porque es un modelo basado en resolver un problema de optimización convexa, que puede ser computacionalmente costoso, especialmente para grandes conjuntos de datos. Mientras que KNN calcula las distancias entre el nuevo punto y los k vecinos más cercanos, lo cual es un cálculo relativamente sencillo. Sin embargo, el tiempo de entrenamiento de KNN es peor incluso que el del análisis discriminante cuadrático, ya que KNN debe calcular esas distancias para cada uno de los datos con todos los demás, lo que no es muy eficiente computacionalmente."
   ]
  }
 ],
 "metadata": {
  "kernelspec": {
   "display_name": "base",
   "language": "python",
   "name": "python3"
  },
  "language_info": {
   "codemirror_mode": {
    "name": "ipython",
    "version": 3
   },
   "file_extension": ".py",
   "mimetype": "text/x-python",
   "name": "python",
   "nbconvert_exporter": "python",
   "pygments_lexer": "ipython3",
   "version": "3.12.4"
  }
 },
 "nbformat": 4,
 "nbformat_minor": 2
}
