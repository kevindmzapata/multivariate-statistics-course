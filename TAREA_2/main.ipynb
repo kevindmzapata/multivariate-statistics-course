{
 "cells": [
  {
   "cell_type": "markdown",
   "metadata": {},
   "source": [
    "# TAREA NO. 2 - Estadística Multivariada\n",
    "\n",
    "## Explicación de la base de datos:\n",
    "\n",
    "El World Happiness Report evalúa el bienestar de los países en base a varios factores, utilizando distintas métricas que ayudan a explicar los niveles de felicidad de la población. A continuación te explico a qué se refiere cada una de las características de esta base de datos:\n",
    "\n",
    "- Country name (Nombre del país): Se refiere al nombre oficial del país que está siendo evaluado en el reporte.\n",
    "\n",
    "- Year (Año): Es el año en el que se recolectaron los datos o se realizó el análisis para el reporte.\n",
    "\n",
    "- Life Ladder (Escalera de la vida): Este es un indicador de bienestar subjetivo, en el cual se pide a las personas que califiquen su vida en una escala del 0 (la peor vida posible) al 10 (la mejor vida posible) según su propia percepción.\n",
    "\n",
    "- Log GDP per capita (Logaritmo del PIB per cápita): Representa el logaritmo del Producto Interno Bruto (PIB) per cápita ajustado por poder adquisitivo. El PIB per cápita es una medida del nivel de vida en un país. El logaritmo se usa para escalar los datos y manejar mejor las diferencias entre los países.\n",
    "\n",
    "- Social support (Apoyo social): Se refiere a la percepción de las personas sobre si tienen o no a alguien en quien puedan confiar en momentos de necesidad. Es un indicador de la red de apoyo social que tienen los individuos.\n",
    "\n",
    "- Healthy life expectancy at birth (Esperanza de vida saludable al nacer): Estima cuántos años se espera que una persona viva con buena salud desde su nacimiento. Este indicador combina la longevidad con la calidad de vida en términos de salud.\n",
    "\n",
    "- Freedom to make life choices (Libertad para tomar decisiones de vida): Mide la percepción de las personas sobre su libertad para tomar decisiones importantes en sus vidas, como elegir su ocupación, lugar de residencia, entre otros.\n",
    "\n",
    "- Generosity (Generosidad): Este indicador evalúa la disposición de las personas a donar dinero o ayudar a los demás, basándose en la cantidad de actos altruistas reportados por los encuestados.\n",
    "\n",
    "- Perceptions of corruption (Percepciones de corrupción): Mide la percepción de la corrupción en el gobierno y las instituciones empresariales dentro del país. Un valor alto indica una mayor percepción de corrupción.\n",
    "\n",
    "- Positive affect (Afecto positivo): Representa la frecuencia con la que las personas experimentan emociones positivas como felicidad, risa y disfrute en su vida diaria.\n",
    "\n",
    "- Negative affect (Afecto negativo): Refleja la frecuencia con la que las personas experimentan emociones negativas como el estrés, la tristeza y el enojo."
   ]
  },
  {
   "cell_type": "code",
   "execution_count": 1,
   "metadata": {},
   "outputs": [],
   "source": [
    "import numpy as np\n",
    "import pandas as pd\n",
    "import matplotlib.pyplot as plt\n",
    "import seaborn as sns\n",
    "from scipy.cluster.hierarchy import dendrogram, linkage, cophenet\n",
    "from scipy.spatial.distance import mahalanobis\n",
    "from scipy.spatial.distance import pdist\n",
    "from sklearn.preprocessing import StandardScaler"
   ]
  },
  {
   "cell_type": "markdown",
   "metadata": {},
   "source": [
    "## 1. Cargar los datos"
   ]
  },
  {
   "cell_type": "markdown",
   "metadata": {},
   "source": [
    "### 1.1. Cargar los datos desde el entorno local"
   ]
  },
  {
   "cell_type": "code",
   "execution_count": 2,
   "metadata": {},
   "outputs": [
    {
     "data": {
      "text/html": [
       "<div>\n",
       "<style scoped>\n",
       "    .dataframe tbody tr th:only-of-type {\n",
       "        vertical-align: middle;\n",
       "    }\n",
       "\n",
       "    .dataframe tbody tr th {\n",
       "        vertical-align: top;\n",
       "    }\n",
       "\n",
       "    .dataframe thead th {\n",
       "        text-align: right;\n",
       "    }\n",
       "</style>\n",
       "<table border=\"1\" class=\"dataframe\">\n",
       "  <thead>\n",
       "    <tr style=\"text-align: right;\">\n",
       "      <th></th>\n",
       "      <th>Country name</th>\n",
       "      <th>year</th>\n",
       "      <th>Life Ladder</th>\n",
       "      <th>Log GDP per capita</th>\n",
       "      <th>Social support</th>\n",
       "      <th>Healthy life expectancy at birth</th>\n",
       "      <th>Freedom to make life choices</th>\n",
       "      <th>Generosity</th>\n",
       "      <th>Perceptions of corruption</th>\n",
       "      <th>Positive affect</th>\n",
       "      <th>Negative affect</th>\n",
       "    </tr>\n",
       "  </thead>\n",
       "  <tbody>\n",
       "    <tr>\n",
       "      <th>0</th>\n",
       "      <td>Afghanistan</td>\n",
       "      <td>2008</td>\n",
       "      <td>3.724</td>\n",
       "      <td>7.370</td>\n",
       "      <td>0.451</td>\n",
       "      <td>50.80</td>\n",
       "      <td>0.718</td>\n",
       "      <td>0.168</td>\n",
       "      <td>0.882</td>\n",
       "      <td>0.518</td>\n",
       "      <td>0.258</td>\n",
       "    </tr>\n",
       "    <tr>\n",
       "      <th>1</th>\n",
       "      <td>Afghanistan</td>\n",
       "      <td>2009</td>\n",
       "      <td>4.402</td>\n",
       "      <td>7.540</td>\n",
       "      <td>0.552</td>\n",
       "      <td>51.20</td>\n",
       "      <td>0.679</td>\n",
       "      <td>0.190</td>\n",
       "      <td>0.850</td>\n",
       "      <td>0.584</td>\n",
       "      <td>0.237</td>\n",
       "    </tr>\n",
       "    <tr>\n",
       "      <th>2</th>\n",
       "      <td>Afghanistan</td>\n",
       "      <td>2010</td>\n",
       "      <td>4.758</td>\n",
       "      <td>7.647</td>\n",
       "      <td>0.539</td>\n",
       "      <td>51.60</td>\n",
       "      <td>0.600</td>\n",
       "      <td>0.121</td>\n",
       "      <td>0.707</td>\n",
       "      <td>0.618</td>\n",
       "      <td>0.275</td>\n",
       "    </tr>\n",
       "    <tr>\n",
       "      <th>3</th>\n",
       "      <td>Afghanistan</td>\n",
       "      <td>2011</td>\n",
       "      <td>3.832</td>\n",
       "      <td>7.620</td>\n",
       "      <td>0.521</td>\n",
       "      <td>51.92</td>\n",
       "      <td>0.496</td>\n",
       "      <td>0.162</td>\n",
       "      <td>0.731</td>\n",
       "      <td>0.611</td>\n",
       "      <td>0.267</td>\n",
       "    </tr>\n",
       "    <tr>\n",
       "      <th>4</th>\n",
       "      <td>Afghanistan</td>\n",
       "      <td>2012</td>\n",
       "      <td>3.783</td>\n",
       "      <td>7.705</td>\n",
       "      <td>0.521</td>\n",
       "      <td>52.24</td>\n",
       "      <td>0.531</td>\n",
       "      <td>0.236</td>\n",
       "      <td>0.776</td>\n",
       "      <td>0.710</td>\n",
       "      <td>0.268</td>\n",
       "    </tr>\n",
       "  </tbody>\n",
       "</table>\n",
       "</div>"
      ],
      "text/plain": [
       "  Country name  year  Life Ladder  Log GDP per capita  Social support  \\\n",
       "0  Afghanistan  2008        3.724               7.370           0.451   \n",
       "1  Afghanistan  2009        4.402               7.540           0.552   \n",
       "2  Afghanistan  2010        4.758               7.647           0.539   \n",
       "3  Afghanistan  2011        3.832               7.620           0.521   \n",
       "4  Afghanistan  2012        3.783               7.705           0.521   \n",
       "\n",
       "   Healthy life expectancy at birth  Freedom to make life choices  Generosity  \\\n",
       "0                             50.80                         0.718       0.168   \n",
       "1                             51.20                         0.679       0.190   \n",
       "2                             51.60                         0.600       0.121   \n",
       "3                             51.92                         0.496       0.162   \n",
       "4                             52.24                         0.531       0.236   \n",
       "\n",
       "   Perceptions of corruption  Positive affect  Negative affect  \n",
       "0                      0.882            0.518            0.258  \n",
       "1                      0.850            0.584            0.237  \n",
       "2                      0.707            0.618            0.275  \n",
       "3                      0.731            0.611            0.267  \n",
       "4                      0.776            0.710            0.268  "
      ]
     },
     "execution_count": 2,
     "metadata": {},
     "output_type": "execute_result"
    }
   ],
   "source": [
    "df = pd.read_csv(\"world-happiness-report.csv\")\n",
    "df.head()"
   ]
  },
  {
   "cell_type": "markdown",
   "metadata": {},
   "source": [
    "### 1.2. Filtrar los datos y obtener la información de interés\n",
    "\n",
    "Ya que la base de datos tiene más de 1000 observaciones y se quiere es hacer una análisis que permita observar el dendograma, se va a filtrar la base de datos por países, donde se va a restringir el análisis para Colombia, como se muestra a continuación, resultando en solo 15  observaciones que se pueden observar fácil gráficamente."
   ]
  },
  {
   "cell_type": "code",
   "execution_count": 3,
   "metadata": {},
   "outputs": [
    {
     "data": {
      "text/html": [
       "<div>\n",
       "<style scoped>\n",
       "    .dataframe tbody tr th:only-of-type {\n",
       "        vertical-align: middle;\n",
       "    }\n",
       "\n",
       "    .dataframe tbody tr th {\n",
       "        vertical-align: top;\n",
       "    }\n",
       "\n",
       "    .dataframe thead th {\n",
       "        text-align: right;\n",
       "    }\n",
       "</style>\n",
       "<table border=\"1\" class=\"dataframe\">\n",
       "  <thead>\n",
       "    <tr style=\"text-align: right;\">\n",
       "      <th></th>\n",
       "      <th>Country name</th>\n",
       "      <th>year</th>\n",
       "      <th>Life Ladder</th>\n",
       "      <th>Log GDP per capita</th>\n",
       "      <th>Social support</th>\n",
       "      <th>Healthy life expectancy at birth</th>\n",
       "      <th>Freedom to make life choices</th>\n",
       "      <th>Generosity</th>\n",
       "      <th>Perceptions of corruption</th>\n",
       "      <th>Positive affect</th>\n",
       "      <th>Negative affect</th>\n",
       "    </tr>\n",
       "  </thead>\n",
       "  <tbody>\n",
       "    <tr>\n",
       "      <th>357</th>\n",
       "      <td>Colombia</td>\n",
       "      <td>2006</td>\n",
       "      <td>6.025</td>\n",
       "      <td>9.277</td>\n",
       "      <td>0.910</td>\n",
       "      <td>65.22</td>\n",
       "      <td>0.805</td>\n",
       "      <td>-0.015</td>\n",
       "      <td>0.808</td>\n",
       "      <td>0.800</td>\n",
       "      <td>0.326</td>\n",
       "    </tr>\n",
       "    <tr>\n",
       "      <th>358</th>\n",
       "      <td>Colombia</td>\n",
       "      <td>2007</td>\n",
       "      <td>6.138</td>\n",
       "      <td>9.330</td>\n",
       "      <td>0.894</td>\n",
       "      <td>65.34</td>\n",
       "      <td>0.786</td>\n",
       "      <td>-0.040</td>\n",
       "      <td>0.860</td>\n",
       "      <td>0.808</td>\n",
       "      <td>0.287</td>\n",
       "    </tr>\n",
       "    <tr>\n",
       "      <th>359</th>\n",
       "      <td>Colombia</td>\n",
       "      <td>2008</td>\n",
       "      <td>6.168</td>\n",
       "      <td>9.351</td>\n",
       "      <td>0.880</td>\n",
       "      <td>65.46</td>\n",
       "      <td>0.795</td>\n",
       "      <td>-0.042</td>\n",
       "      <td>0.763</td>\n",
       "      <td>0.803</td>\n",
       "      <td>0.307</td>\n",
       "    </tr>\n",
       "    <tr>\n",
       "      <th>360</th>\n",
       "      <td>Colombia</td>\n",
       "      <td>2009</td>\n",
       "      <td>6.272</td>\n",
       "      <td>9.351</td>\n",
       "      <td>0.886</td>\n",
       "      <td>65.58</td>\n",
       "      <td>0.757</td>\n",
       "      <td>-0.055</td>\n",
       "      <td>0.837</td>\n",
       "      <td>0.843</td>\n",
       "      <td>0.273</td>\n",
       "    </tr>\n",
       "    <tr>\n",
       "      <th>361</th>\n",
       "      <td>Colombia</td>\n",
       "      <td>2010</td>\n",
       "      <td>6.408</td>\n",
       "      <td>9.384</td>\n",
       "      <td>0.893</td>\n",
       "      <td>65.70</td>\n",
       "      <td>0.816</td>\n",
       "      <td>-0.050</td>\n",
       "      <td>0.815</td>\n",
       "      <td>0.831</td>\n",
       "      <td>0.265</td>\n",
       "    </tr>\n",
       "  </tbody>\n",
       "</table>\n",
       "</div>"
      ],
      "text/plain": [
       "    Country name  year  Life Ladder  Log GDP per capita  Social support  \\\n",
       "357     Colombia  2006        6.025               9.277           0.910   \n",
       "358     Colombia  2007        6.138               9.330           0.894   \n",
       "359     Colombia  2008        6.168               9.351           0.880   \n",
       "360     Colombia  2009        6.272               9.351           0.886   \n",
       "361     Colombia  2010        6.408               9.384           0.893   \n",
       "\n",
       "     Healthy life expectancy at birth  Freedom to make life choices  \\\n",
       "357                             65.22                         0.805   \n",
       "358                             65.34                         0.786   \n",
       "359                             65.46                         0.795   \n",
       "360                             65.58                         0.757   \n",
       "361                             65.70                         0.816   \n",
       "\n",
       "     Generosity  Perceptions of corruption  Positive affect  Negative affect  \n",
       "357      -0.015                      0.808            0.800            0.326  \n",
       "358      -0.040                      0.860            0.808            0.287  \n",
       "359      -0.042                      0.763            0.803            0.307  \n",
       "360      -0.055                      0.837            0.843            0.273  \n",
       "361      -0.050                      0.815            0.831            0.265  "
      ]
     },
     "execution_count": 3,
     "metadata": {},
     "output_type": "execute_result"
    }
   ],
   "source": [
    "# Filtrar solo a el pais 'Colombia'\n",
    "df_colombia = df[df['Country name'] == 'Colombia']\n",
    "df_colombia.head()"
   ]
  },
  {
   "cell_type": "markdown",
   "metadata": {},
   "source": [
    "En este caso, las variables categóricas como PAIS y AÑO no van a ir dentro del análisis de clúster ya que no brindan información relevante. PAIS siempre es el mismo entonces no aporta nada, por otro lado, el año será la etiqueta de los datos, permitiendo agrupar las observaciones y ver en que años, en Colombia, hay mayor similitud en cuanto a la felicidad de las personas."
   ]
  },
  {
   "cell_type": "code",
   "execution_count": 4,
   "metadata": {},
   "outputs": [
    {
     "data": {
      "text/html": [
       "<div>\n",
       "<style scoped>\n",
       "    .dataframe tbody tr th:only-of-type {\n",
       "        vertical-align: middle;\n",
       "    }\n",
       "\n",
       "    .dataframe tbody tr th {\n",
       "        vertical-align: top;\n",
       "    }\n",
       "\n",
       "    .dataframe thead th {\n",
       "        text-align: right;\n",
       "    }\n",
       "</style>\n",
       "<table border=\"1\" class=\"dataframe\">\n",
       "  <thead>\n",
       "    <tr style=\"text-align: right;\">\n",
       "      <th></th>\n",
       "      <th>Life Ladder</th>\n",
       "      <th>Log GDP per capita</th>\n",
       "      <th>Social support</th>\n",
       "      <th>Healthy life expectancy at birth</th>\n",
       "      <th>Freedom to make life choices</th>\n",
       "      <th>Generosity</th>\n",
       "      <th>Perceptions of corruption</th>\n",
       "    </tr>\n",
       "  </thead>\n",
       "  <tbody>\n",
       "    <tr>\n",
       "      <th>357</th>\n",
       "      <td>6.025</td>\n",
       "      <td>9.277</td>\n",
       "      <td>0.910</td>\n",
       "      <td>65.22</td>\n",
       "      <td>0.805</td>\n",
       "      <td>-0.015</td>\n",
       "      <td>0.808</td>\n",
       "    </tr>\n",
       "    <tr>\n",
       "      <th>358</th>\n",
       "      <td>6.138</td>\n",
       "      <td>9.330</td>\n",
       "      <td>0.894</td>\n",
       "      <td>65.34</td>\n",
       "      <td>0.786</td>\n",
       "      <td>-0.040</td>\n",
       "      <td>0.860</td>\n",
       "    </tr>\n",
       "    <tr>\n",
       "      <th>359</th>\n",
       "      <td>6.168</td>\n",
       "      <td>9.351</td>\n",
       "      <td>0.880</td>\n",
       "      <td>65.46</td>\n",
       "      <td>0.795</td>\n",
       "      <td>-0.042</td>\n",
       "      <td>0.763</td>\n",
       "    </tr>\n",
       "    <tr>\n",
       "      <th>360</th>\n",
       "      <td>6.272</td>\n",
       "      <td>9.351</td>\n",
       "      <td>0.886</td>\n",
       "      <td>65.58</td>\n",
       "      <td>0.757</td>\n",
       "      <td>-0.055</td>\n",
       "      <td>0.837</td>\n",
       "    </tr>\n",
       "    <tr>\n",
       "      <th>361</th>\n",
       "      <td>6.408</td>\n",
       "      <td>9.384</td>\n",
       "      <td>0.893</td>\n",
       "      <td>65.70</td>\n",
       "      <td>0.816</td>\n",
       "      <td>-0.050</td>\n",
       "      <td>0.815</td>\n",
       "    </tr>\n",
       "  </tbody>\n",
       "</table>\n",
       "</div>"
      ],
      "text/plain": [
       "     Life Ladder  Log GDP per capita  Social support  \\\n",
       "357        6.025               9.277           0.910   \n",
       "358        6.138               9.330           0.894   \n",
       "359        6.168               9.351           0.880   \n",
       "360        6.272               9.351           0.886   \n",
       "361        6.408               9.384           0.893   \n",
       "\n",
       "     Healthy life expectancy at birth  Freedom to make life choices  \\\n",
       "357                             65.22                         0.805   \n",
       "358                             65.34                         0.786   \n",
       "359                             65.46                         0.795   \n",
       "360                             65.58                         0.757   \n",
       "361                             65.70                         0.816   \n",
       "\n",
       "     Generosity  Perceptions of corruption  \n",
       "357      -0.015                      0.808  \n",
       "358      -0.040                      0.860  \n",
       "359      -0.042                      0.763  \n",
       "360      -0.055                      0.837  \n",
       "361      -0.050                      0.815  "
      ]
     },
     "execution_count": 4,
     "metadata": {},
     "output_type": "execute_result"
    }
   ],
   "source": [
    "etiquetas = df_colombia['year'] # Etiquetas para los datos\n",
    "\n",
    "df = df_colombia[['Life Ladder', 'Log GDP per capita', 'Social support', 'Healthy life expectancy at birth', \n",
    "        'Freedom to make life choices', 'Generosity', 'Perceptions of corruption']] # Seleccionar las columnas a usar\n",
    "df.head()"
   ]
  },
  {
   "cell_type": "code",
   "execution_count": 5,
   "metadata": {},
   "outputs": [
    {
     "data": {
      "text/plain": [
       "Life Ladder                         0\n",
       "Log GDP per capita                  0\n",
       "Social support                      0\n",
       "Healthy life expectancy at birth    0\n",
       "Freedom to make life choices        0\n",
       "Generosity                          0\n",
       "Perceptions of corruption           0\n",
       "dtype: int64"
      ]
     },
     "execution_count": 5,
     "metadata": {},
     "output_type": "execute_result"
    }
   ],
   "source": [
    "# Calcular la cantidad de valores nulos en cada columna\n",
    "pd.DataFrame.isnull(df).sum()"
   ]
  },
  {
   "cell_type": "code",
   "execution_count": 6,
   "metadata": {},
   "outputs": [],
   "source": [
    "# Imputar los valores nulos con la media de la columna\n",
    "# df = df.fillna(df.mean()) # Descomentar para imputar valores nulos (si los hay)"
   ]
  },
  {
   "cell_type": "code",
   "execution_count": 7,
   "metadata": {},
   "outputs": [
    {
     "name": "stdout",
     "output_type": "stream",
     "text": [
      "Las dimensiones de X son:  (15, 7)\n",
      "Las dimensiones de y son:  (15,)\n"
     ]
    }
   ],
   "source": [
    "X = df.values\n",
    "y = etiquetas.values\n",
    "print(\"Las dimensiones de X son: \", X.shape)\n",
    "print(\"Las dimensiones de y son: \", y.shape)"
   ]
  },
  {
   "cell_type": "code",
   "execution_count": 8,
   "metadata": {},
   "outputs": [
    {
     "name": "stdout",
     "output_type": "stream",
     "text": [
      "Las medias de cada columna son:  [ 6.24853333  9.46933333  0.8874     66.50666667  0.81446667 -0.08046667\n",
      "  0.84773333]\n",
      "Las desviaciones estándar de cada columna son:  [0.21987356 0.10283104 0.02750224 0.97410928 0.02481093 0.04754207\n",
      " 0.03609149]\n"
     ]
    }
   ],
   "source": [
    "print(\"Las medias de cada columna son: \", np.mean(X, axis=0))\n",
    "print(\"Las desviaciones estándar de cada columna son: \", np.std(X, axis=0))"
   ]
  },
  {
   "cell_type": "markdown",
   "metadata": {},
   "source": [
    "### 1.3. Estandarizado de los datos"
   ]
  },
  {
   "cell_type": "code",
   "execution_count": 9,
   "metadata": {},
   "outputs": [],
   "source": [
    "scaler = StandardScaler()\n",
    "X_scaled = scaler.fit_transform(X)"
   ]
  },
  {
   "cell_type": "code",
   "execution_count": 10,
   "metadata": {},
   "outputs": [
    {
     "name": "stdout",
     "output_type": "stream",
     "text": [
      "La media de cada variable es:  [ 7.54951657e-15  3.54346182e-15 -2.13162821e-15 -8.85217825e-15\n",
      "  4.15963560e-15 -2.29446092e-16 -2.07241631e-16]\n",
      "La desviación estándar de cada variable es:  [1. 1. 1. 1. 1. 1. 1.]\n"
     ]
    }
   ],
   "source": [
    "print(\"La media de cada variable es: \", X_scaled.mean(axis=0))\n",
    "print(\"La desviación estándar de cada variable es: \", X_scaled.std(axis=0))"
   ]
  },
  {
   "cell_type": "markdown",
   "metadata": {},
   "source": [
    "Los datos han sido estandarizados, lo que es esencial para realizar el análisis de clúster ya que las variables están en diferentes escalas. A continuación, realizaremos un análisis de clúster jerárquico utilizando distintas medidas de distancia y técnicas de aglomeración. Evaluaremos las siguientes combinaciones:"
   ]
  },
  {
   "cell_type": "markdown",
   "metadata": {},
   "source": [
    "### 1.4. Definición de los métodos que se van a usar\n",
    "\n",
    "Para cambiar las métricas de distancia, simplemente modifica el parámetro metric dentro de pdist. Aquí algunos ejemplos:\n",
    "\n",
    "- Para distancia Euclidiana: pdist(X, metric='euclidean')\n",
    "- Para distancia Manhattan: pdist(X, metric='cityblock')\n",
    "- Para distancia Chebyshev: pdist(X, metric='chebyshev')\n",
    "- Para distancia Coseno: pdist(X, metric='cosine')\n",
    "- Para distancia Mahalanobis: pdist(X, metric='mahalanobis', VI=matriz_inversa_de_covarianza)"
   ]
  },
  {
   "cell_type": "code",
   "execution_count": 11,
   "metadata": {},
   "outputs": [],
   "source": [
    "distancias = [\"euclidean\", \"cityblock\", \"chebyshev\", \"cosine\", \"mahalanobis\"]"
   ]
  },
  {
   "cell_type": "code",
   "execution_count": 12,
   "metadata": {},
   "outputs": [],
   "source": [
    "metodos = [\"single\", \"complete\", \"average\", \"weighted\", \"centroid\", \"median\", \"ward\"]"
   ]
  },
  {
   "cell_type": "markdown",
   "metadata": {},
   "source": [
    "## 2. Análisis de clúster jerárquico\n",
    "\n",
    "### 2.1. Calculo del coeficiente cofenético"
   ]
  },
  {
   "cell_type": "code",
   "execution_count": 13,
   "metadata": {},
   "outputs": [],
   "source": [
    "# Calcular la matriz inversa de la covarianza para la distancia de Mahalanobis\n",
    "VI = np.linalg.inv(np.cov(X_scaled.T))"
   ]
  },
  {
   "cell_type": "code",
   "execution_count": 14,
   "metadata": {},
   "outputs": [
    {
     "data": {
      "text/html": [
       "<div>\n",
       "<style scoped>\n",
       "    .dataframe tbody tr th:only-of-type {\n",
       "        vertical-align: middle;\n",
       "    }\n",
       "\n",
       "    .dataframe tbody tr th {\n",
       "        vertical-align: top;\n",
       "    }\n",
       "\n",
       "    .dataframe thead th {\n",
       "        text-align: right;\n",
       "    }\n",
       "</style>\n",
       "<table border=\"1\" class=\"dataframe\">\n",
       "  <thead>\n",
       "    <tr style=\"text-align: right;\">\n",
       "      <th></th>\n",
       "      <th>single</th>\n",
       "      <th>complete</th>\n",
       "      <th>average</th>\n",
       "      <th>weighted</th>\n",
       "      <th>centroid</th>\n",
       "      <th>median</th>\n",
       "      <th>ward</th>\n",
       "    </tr>\n",
       "  </thead>\n",
       "  <tbody>\n",
       "    <tr>\n",
       "      <th>euclidean</th>\n",
       "      <td>0.667191</td>\n",
       "      <td>0.717077</td>\n",
       "      <td>0.799454</td>\n",
       "      <td>0.788883</td>\n",
       "      <td>0.793234</td>\n",
       "      <td>0.78735</td>\n",
       "      <td>0.678028</td>\n",
       "    </tr>\n",
       "    <tr>\n",
       "      <th>cityblock</th>\n",
       "      <td>0.629001</td>\n",
       "      <td>0.692561</td>\n",
       "      <td>0.777995</td>\n",
       "      <td>0.769904</td>\n",
       "      <td>0.77351</td>\n",
       "      <td>0.744112</td>\n",
       "      <td>0.683192</td>\n",
       "    </tr>\n",
       "    <tr>\n",
       "      <th>chebyshev</th>\n",
       "      <td>0.65248</td>\n",
       "      <td>0.700134</td>\n",
       "      <td>0.77635</td>\n",
       "      <td>0.771996</td>\n",
       "      <td>0.752932</td>\n",
       "      <td>0.756324</td>\n",
       "      <td>0.642536</td>\n",
       "    </tr>\n",
       "    <tr>\n",
       "      <th>cosine</th>\n",
       "      <td>0.710527</td>\n",
       "      <td>0.749192</td>\n",
       "      <td>0.756198</td>\n",
       "      <td>0.75494</td>\n",
       "      <td>0.754469</td>\n",
       "      <td>0.74914</td>\n",
       "      <td>0.746852</td>\n",
       "    </tr>\n",
       "    <tr>\n",
       "      <th>mahalanobis</th>\n",
       "      <td>0.638189</td>\n",
       "      <td>0.629753</td>\n",
       "      <td>0.731875</td>\n",
       "      <td>0.720894</td>\n",
       "      <td>0.694704</td>\n",
       "      <td>0.642234</td>\n",
       "      <td>0.549889</td>\n",
       "    </tr>\n",
       "  </tbody>\n",
       "</table>\n",
       "</div>"
      ],
      "text/plain": [
       "               single  complete   average  weighted  centroid    median  \\\n",
       "euclidean    0.667191  0.717077  0.799454  0.788883  0.793234   0.78735   \n",
       "cityblock    0.629001  0.692561  0.777995  0.769904   0.77351  0.744112   \n",
       "chebyshev     0.65248  0.700134   0.77635  0.771996  0.752932  0.756324   \n",
       "cosine       0.710527  0.749192  0.756198   0.75494  0.754469   0.74914   \n",
       "mahalanobis  0.638189  0.629753  0.731875  0.720894  0.694704  0.642234   \n",
       "\n",
       "                 ward  \n",
       "euclidean    0.678028  \n",
       "cityblock    0.683192  \n",
       "chebyshev    0.642536  \n",
       "cosine       0.746852  \n",
       "mahalanobis  0.549889  "
      ]
     },
     "execution_count": 14,
     "metadata": {},
     "output_type": "execute_result"
    }
   ],
   "source": [
    "cofenetic_results = pd.DataFrame(columns=metodos, index=distancias)\n",
    "# Calcular los coeficientes cofenéticos para cada combinación de distancia y método de aglomeración\n",
    "for distance_metric in distancias:\n",
    "    for linkage_method in metodos:\n",
    "        try:\n",
    "            # Si la distancia es Mahalanobis, usamos una función especial\n",
    "            if distance_metric == 'mahalanobis':\n",
    "                distance_matrix = pdist(X_scaled, metric=mahalanobis, VI=VI)\n",
    "            else:\n",
    "                distance_matrix = pdist(X_scaled, metric=distance_metric)\n",
    "            \n",
    "            # Realizar el clustering jerárquico\n",
    "            linkage_matrix = linkage(distance_matrix, method=linkage_method)\n",
    "            \n",
    "            # Calcular el coeficiente cofenético\n",
    "            coph_d, coph_matrix = cophenet(linkage_matrix, distance_matrix)\n",
    "            cofenetic_results.loc[distance_metric, linkage_method] = coph_d\n",
    "        except Exception as e:\n",
    "            # Guardamos los errores para combinaciones que fallan\n",
    "            cofenetic_results.loc[distance_metric, linkage_method] = str(e)\n",
    "\n",
    "# Redondear los resultados a 2 decimales\n",
    "cofenetic_results"
   ]
  },
  {
   "cell_type": "code",
   "execution_count": 15,
   "metadata": {},
   "outputs": [
    {
     "data": {
      "text/plain": [
       "euclidean      0.747317\n",
       "cityblock      0.724325\n",
       "chebyshev      0.721822\n",
       "cosine         0.745903\n",
       "mahalanobis     0.65822\n",
       "dtype: object"
      ]
     },
     "execution_count": 15,
     "metadata": {},
     "output_type": "execute_result"
    }
   ],
   "source": [
    "# Calcular la media de los coeficientes cofenéticos segun la distancia\n",
    "cofenetic_results.mean(axis=1)"
   ]
  },
  {
   "cell_type": "markdown",
   "metadata": {},
   "source": [
    "### 2.2. Extracción de al mejor diatancia y mejor método de enlace"
   ]
  },
  {
   "cell_type": "code",
   "execution_count": 16,
   "metadata": {},
   "outputs": [
    {
     "name": "stdout",
     "output_type": "stream",
     "text": [
      "El mejor coeficiente cofenético es:  0.7994536676891434\n",
      "El peor coeficiente cofenético es:  0.5498890106333905\n",
      "La mejor combinación de distancia y método es:  ('euclidean', 'average')\n",
      "La peor combinación de distancia y método es:  ('mahalanobis', 'ward')\n"
     ]
    }
   ],
   "source": [
    "# Extraer el mejor y peor coeficiente cofenético para cada distancia y método\n",
    "cofenetic_results = cofenetic_results.astype(float)\n",
    "best_cophenetic = cofenetic_results.max().max()\n",
    "worst_cophenetic = cofenetic_results.min().min()\n",
    "\n",
    "# Encontrar la mejor combinación de distancia y método\n",
    "best_combination = cofenetic_results.stack()[cofenetic_results.stack() == best_cophenetic].index[0]\n",
    "worst_combination = cofenetic_results.stack()[cofenetic_results.stack() == worst_cophenetic].index[0]\n",
    "\n",
    "print(\"El mejor coeficiente cofenético es: \", best_cophenetic)\n",
    "print(\"El peor coeficiente cofenético es: \", worst_cophenetic)\n",
    "print(\"La mejor combinación de distancia y método es: \", best_combination)\n",
    "print(\"La peor combinación de distancia y método es: \", worst_combination)"
   ]
  },
  {
   "cell_type": "markdown",
   "metadata": {},
   "source": [
    "El coeficiente cofenético mide qué tan bien la estructura jerárquica preserva las distancias originales. Un valor cercano a 1 indica una mejor preservación.\n",
    "\n",
    "La mejor combinación fue Euclidean + Average con un coeficiente de ~0.8. Mientras que la peor combinación fue la de Mahalanobis + Ward con un coeficiente de tan solo ~0.55.\n",
    "\n",
    "Los métodos con la distancia Mahalanobis presentaron los coeficientes más bajos en promedio, lo que indica que no es la mejor elección para este conjunto de datos. Mientras que, en promedio nuevamente, la distancia Euclidiana dio los mejores resultados. Estos resultados son consecuentes con los resultados anteriores de la mejor y peor combinación de distancia y método.\n",
    "Por lo tanto, procederemos a interpretar los clústeres utilizando la combinación con mejor coeficiente: Euclidean + Average."
   ]
  },
  {
   "cell_type": "markdown",
   "metadata": {},
   "source": [
    "### 2.3. Dendograma"
   ]
  },
  {
   "cell_type": "code",
   "execution_count": 17,
   "metadata": {},
   "outputs": [
    {
     "data": {
      "image/png": "[encoded data removed]",
      "text/plain": [
       "<Figure size 1300x500 with 2 Axes>"
      ]
     },
     "metadata": {},
     "output_type": "display_data"
    }
   ],
   "source": [
    "best_distance, best_method = best_combination\n",
    "best_distance_matrix = pdist(X_scaled, metric=best_distance)\n",
    "best_linkage_matrix = linkage(best_distance_matrix, method=best_method)\n",
    "\n",
    "worst_distance, worst_method = worst_combination\n",
    "worst_distance_matrix = pdist(X_scaled, metric=worst_distance)\n",
    "worst_linkage_matrix = linkage(worst_distance_matrix, method=worst_method)\n",
    "\n",
    "fig, axs = plt.subplots(1, 2, figsize=(13, 5))\n",
    "\n",
    "fig.suptitle(\"Dendrogramas de jerarquía para Colombia entre 2006 - 2020\", fontsize=20)\n",
    "\n",
    "dendrogram(best_linkage_matrix, labels=y, ax=axs[0], leaf_rotation=45)\n",
    "axs[0].set_title(f\"Dendograma ({best_distance}, {best_method})\")\n",
    "\n",
    "dendrogram(worst_linkage_matrix, labels=y, ax=axs[1], leaf_rotation=45)\n",
    "axs[1].set_title(f\"Dendograma ({worst_distance}, {worst_method})\")\n",
    "\n",
    "plt.tight_layout()\n",
    "plt.show()"
   ]
  }
 ],
 "metadata": {
  "kernelspec": {
   "display_name": "base",
   "language": "python",
   "name": "python3"
  },
  "language_info": {
   "codemirror_mode": {
    "name": "ipython",
    "version": 3
   },
   "file_extension": ".py",
   "mimetype": "text/x-python",
   "name": "python",
   "nbconvert_exporter": "python",
   "pygments_lexer": "ipython3",
   "version": "3.12.4"
  }
 },
 "nbformat": 4,
 "nbformat_minor": 2
}
