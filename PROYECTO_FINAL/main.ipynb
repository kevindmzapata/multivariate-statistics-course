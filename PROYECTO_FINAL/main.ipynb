{
 "cells": [
  {
   "cell_type": "markdown",
   "metadata": {},
   "source": [
    "# TAREA NO. 3 - ESTADÍSTICA MULTIVARIADA: REGRESIÓN MULTIVARIADA\n",
    "\n",
    "## 1. Contexto de la base de datos\n",
    "Este conjutno de datos contiene seis meses de datos de consumo eléctrico de un hogar, recogidos entre enero y junio de 2007. Los datos incluyen información sobre potencia activa global, potencia reactiva global, tensión, intensidad global, submedición 1 (cocina), submedición 2 (lavadero) y submedición 3 (calentador de agua eléctrico y aire acondicionado). Con 260.640 mediciones en total, el objetivo es predecir o estimar el consumo eléctrico de los hogares.\n",
    "\n",
    "| Nombre de la columna | Descripción |\n",
    "| --- | --- |\n",
    "| Fecha | La fecha de la observación. (Fecha) |\n",
    "| Hora | La hora de la observación. (Hora) |\n",
    "| Potencia_activa_global | La potencia activa total consumida por el hogar (kilovatios). (Numérico) |\n",
    "| Potencia_reactiva_global | La potencia reactiva total consumida por el hogar (kilovatios). (Numérico) |\n",
    "| Voltaje | El voltaje al cual se entrega la electricidad al hogar (voltios). (Numérico) |\n",
    "| Intensidad_global | La intensidad de corriente promedio entregada al hogar (amperios). (Numérico) |\n",
    "| Sub_medición_1 | La potencia activa consumida por la cocina (kilovatios). (Numérico) |\n",
    "| Sub_medición_2 | La potencia activa consumida por la lavandería (kilovatios). (Numérico) |\n",
    "| Sub_medición_3 | La potencia activa consumida por el calentador de agua eléctrico y el aire acondicionado (kilovatios). (Numérico) |\n",
    "\n",
    "La variable respuesta para el modelo de regresión múltiple es la potencia aparente global en la red. A priori, esta variable no está incluida dentro del conjunto de datos, por lo que es necesario obtenerla a parir de la potencia reactiva y activa global que si están disponibles en el conjunto de datos."
   ]
  },
  {
   "cell_type": "code",
   "execution_count": 15,
   "metadata": {},
   "outputs": [],
   "source": [
    "import numpy as np\n",
    "import matplotlib.pyplot as plt\n",
    "import seaborn as sns\n",
    "import pandas as pd\n",
    "from sklearn.preprocessing import StandardScaler"
   ]
  },
  {
   "cell_type": "markdown",
   "metadata": {},
   "source": [
    "## 1. Análisis descriptivo de los datos"
   ]
  },
  {
   "cell_type": "markdown",
   "metadata": {},
   "source": [
    "### 1.1. Limpieza de los datos"
   ]
  },
  {
   "cell_type": "code",
   "execution_count": 16,
   "metadata": {},
   "outputs": [
    {
     "name": "stdout",
     "output_type": "stream",
     "text": [
      "<class 'pandas.core.frame.DataFrame'>\n",
      "Index: 256869 entries, 0 to 260639\n",
      "Data columns (total 10 columns):\n",
      " #   Column                 Non-Null Count   Dtype  \n",
      "---  ------                 --------------   -----  \n",
      " 0   index                  256869 non-null  int64  \n",
      " 1   Date                   256869 non-null  object \n",
      " 2   Time                   256869 non-null  object \n",
      " 3   Global_active_power    256869 non-null  object \n",
      " 4   Global_reactive_power  256869 non-null  object \n",
      " 5   Voltage                256869 non-null  object \n",
      " 6   Global_intensity       256869 non-null  object \n",
      " 7   Sub_metering_1         256869 non-null  object \n",
      " 8   Sub_metering_2         256869 non-null  object \n",
      " 9   Sub_metering_3         256869 non-null  float64\n",
      "dtypes: float64(1), int64(1), object(8)\n",
      "memory usage: 21.6+ MB\n"
     ]
    }
   ],
   "source": [
    "df = pd.read_csv('database.csv')\n",
    "df = df.replace('?', np.nan)\n",
    "df = df.dropna()\n",
    "df.info()"
   ]
  },
  {
   "cell_type": "code",
   "execution_count": 17,
   "metadata": {},
   "outputs": [
    {
     "data": {
      "text/html": [
       "<div>\n",
       "<style scoped>\n",
       "    .dataframe tbody tr th:only-of-type {\n",
       "        vertical-align: middle;\n",
       "    }\n",
       "\n",
       "    .dataframe tbody tr th {\n",
       "        vertical-align: top;\n",
       "    }\n",
       "\n",
       "    .dataframe thead th {\n",
       "        text-align: right;\n",
       "    }\n",
       "</style>\n",
       "<table border=\"1\" class=\"dataframe\">\n",
       "  <thead>\n",
       "    <tr style=\"text-align: right;\">\n",
       "      <th></th>\n",
       "      <th>Global_active_power</th>\n",
       "      <th>Global_reactive_power</th>\n",
       "      <th>Voltage</th>\n",
       "      <th>Global_intensity</th>\n",
       "      <th>Sub_metering_1</th>\n",
       "      <th>Sub_metering_2</th>\n",
       "      <th>Sub_metering_3</th>\n",
       "    </tr>\n",
       "  </thead>\n",
       "  <tbody>\n",
       "    <tr>\n",
       "      <th>0</th>\n",
       "      <td>2.58</td>\n",
       "      <td>0.136</td>\n",
       "      <td>241.97</td>\n",
       "      <td>10.6</td>\n",
       "      <td>0</td>\n",
       "      <td>0</td>\n",
       "      <td>0.0</td>\n",
       "    </tr>\n",
       "    <tr>\n",
       "      <th>1</th>\n",
       "      <td>2.552</td>\n",
       "      <td>0.1</td>\n",
       "      <td>241.75</td>\n",
       "      <td>10.4</td>\n",
       "      <td>0</td>\n",
       "      <td>0</td>\n",
       "      <td>0.0</td>\n",
       "    </tr>\n",
       "    <tr>\n",
       "      <th>2</th>\n",
       "      <td>2.55</td>\n",
       "      <td>0.1</td>\n",
       "      <td>241.64</td>\n",
       "      <td>10.4</td>\n",
       "      <td>0</td>\n",
       "      <td>0</td>\n",
       "      <td>0.0</td>\n",
       "    </tr>\n",
       "    <tr>\n",
       "      <th>3</th>\n",
       "      <td>2.55</td>\n",
       "      <td>0.1</td>\n",
       "      <td>241.71</td>\n",
       "      <td>10.4</td>\n",
       "      <td>0</td>\n",
       "      <td>0</td>\n",
       "      <td>0.0</td>\n",
       "    </tr>\n",
       "    <tr>\n",
       "      <th>4</th>\n",
       "      <td>2.554</td>\n",
       "      <td>0.1</td>\n",
       "      <td>241.98</td>\n",
       "      <td>10.4</td>\n",
       "      <td>0</td>\n",
       "      <td>0</td>\n",
       "      <td>0.0</td>\n",
       "    </tr>\n",
       "  </tbody>\n",
       "</table>\n",
       "</div>"
      ],
      "text/plain": [
       "  Global_active_power Global_reactive_power Voltage Global_intensity  \\\n",
       "0                2.58                 0.136  241.97             10.6   \n",
       "1               2.552                   0.1  241.75             10.4   \n",
       "2                2.55                   0.1  241.64             10.4   \n",
       "3                2.55                   0.1  241.71             10.4   \n",
       "4               2.554                   0.1  241.98             10.4   \n",
       "\n",
       "  Sub_metering_1 Sub_metering_2  Sub_metering_3  \n",
       "0              0              0             0.0  \n",
       "1              0              0             0.0  \n",
       "2              0              0             0.0  \n",
       "3              0              0             0.0  \n",
       "4              0              0             0.0  "
      ]
     },
     "execution_count": 17,
     "metadata": {},
     "output_type": "execute_result"
    }
   ],
   "source": [
    "df_no_time = df.drop(columns=['index', 'Date', 'Time'])\n",
    "df_no_time.head()"
   ]
  },
  {
   "cell_type": "markdown",
   "metadata": {},
   "source": [
    "### 1.2. Estandarización de los datos"
   ]
  },
  {
   "cell_type": "code",
   "execution_count": 18,
   "metadata": {},
   "outputs": [
    {
     "data": {
      "text/html": [
       "<div>\n",
       "<style scoped>\n",
       "    .dataframe tbody tr th:only-of-type {\n",
       "        vertical-align: middle;\n",
       "    }\n",
       "\n",
       "    .dataframe tbody tr th {\n",
       "        vertical-align: top;\n",
       "    }\n",
       "\n",
       "    .dataframe thead th {\n",
       "        text-align: right;\n",
       "    }\n",
       "</style>\n",
       "<table border=\"1\" class=\"dataframe\">\n",
       "  <thead>\n",
       "    <tr style=\"text-align: right;\">\n",
       "      <th></th>\n",
       "      <th>Global_active_power</th>\n",
       "      <th>Global_reactive_power</th>\n",
       "      <th>Voltage</th>\n",
       "      <th>Global_intensity</th>\n",
       "      <th>Sub_metering_1</th>\n",
       "      <th>Sub_metering_2</th>\n",
       "      <th>Sub_metering_3</th>\n",
       "    </tr>\n",
       "  </thead>\n",
       "  <tbody>\n",
       "    <tr>\n",
       "      <th>0</th>\n",
       "      <td>1.197349</td>\n",
       "      <td>0.109691</td>\n",
       "      <td>0.768490</td>\n",
       "      <td>1.125165</td>\n",
       "      <td>-0.198731</td>\n",
       "      <td>-0.251926</td>\n",
       "      <td>-0.712354</td>\n",
       "    </tr>\n",
       "    <tr>\n",
       "      <th>1</th>\n",
       "      <td>1.173657</td>\n",
       "      <td>-0.212106</td>\n",
       "      <td>0.707256</td>\n",
       "      <td>1.085161</td>\n",
       "      <td>-0.198731</td>\n",
       "      <td>-0.251926</td>\n",
       "      <td>-0.712354</td>\n",
       "    </tr>\n",
       "    <tr>\n",
       "      <th>2</th>\n",
       "      <td>1.171965</td>\n",
       "      <td>-0.212106</td>\n",
       "      <td>0.676639</td>\n",
       "      <td>1.085161</td>\n",
       "      <td>-0.198731</td>\n",
       "      <td>-0.251926</td>\n",
       "      <td>-0.712354</td>\n",
       "    </tr>\n",
       "    <tr>\n",
       "      <th>3</th>\n",
       "      <td>1.171965</td>\n",
       "      <td>-0.212106</td>\n",
       "      <td>0.696122</td>\n",
       "      <td>1.085161</td>\n",
       "      <td>-0.198731</td>\n",
       "      <td>-0.251926</td>\n",
       "      <td>-0.712354</td>\n",
       "    </tr>\n",
       "    <tr>\n",
       "      <th>4</th>\n",
       "      <td>1.175350</td>\n",
       "      <td>-0.212106</td>\n",
       "      <td>0.771273</td>\n",
       "      <td>1.085161</td>\n",
       "      <td>-0.198731</td>\n",
       "      <td>-0.251926</td>\n",
       "      <td>-0.712354</td>\n",
       "    </tr>\n",
       "  </tbody>\n",
       "</table>\n",
       "</div>"
      ],
      "text/plain": [
       "   Global_active_power  Global_reactive_power   Voltage  Global_intensity  \\\n",
       "0             1.197349               0.109691  0.768490          1.125165   \n",
       "1             1.173657              -0.212106  0.707256          1.085161   \n",
       "2             1.171965              -0.212106  0.676639          1.085161   \n",
       "3             1.171965              -0.212106  0.696122          1.085161   \n",
       "4             1.175350              -0.212106  0.771273          1.085161   \n",
       "\n",
       "   Sub_metering_1  Sub_metering_2  Sub_metering_3  \n",
       "0       -0.198731       -0.251926       -0.712354  \n",
       "1       -0.198731       -0.251926       -0.712354  \n",
       "2       -0.198731       -0.251926       -0.712354  \n",
       "3       -0.198731       -0.251926       -0.712354  \n",
       "4       -0.198731       -0.251926       -0.712354  "
      ]
     },
     "execution_count": 18,
     "metadata": {},
     "output_type": "execute_result"
    }
   ],
   "source": [
    "scaler = StandardScaler().fit(df_no_time)\n",
    "df_no_time_scaled = scaler.transform(df_no_time)\n",
    "df_no_time_scaled = pd.DataFrame(df_no_time_scaled, columns=df_no_time.columns)\n",
    "df_no_time_scaled.head()"
   ]
  },
  {
   "cell_type": "code",
   "execution_count": 19,
   "metadata": {},
   "outputs": [
    {
     "data": {
      "text/html": [
       "<div>\n",
       "<style scoped>\n",
       "    .dataframe tbody tr th:only-of-type {\n",
       "        vertical-align: middle;\n",
       "    }\n",
       "\n",
       "    .dataframe tbody tr th {\n",
       "        vertical-align: top;\n",
       "    }\n",
       "\n",
       "    .dataframe thead th {\n",
       "        text-align: right;\n",
       "    }\n",
       "</style>\n",
       "<table border=\"1\" class=\"dataframe\">\n",
       "  <thead>\n",
       "    <tr style=\"text-align: right;\">\n",
       "      <th></th>\n",
       "      <th>Global_active_power</th>\n",
       "      <th>Global_reactive_power</th>\n",
       "      <th>Voltage</th>\n",
       "      <th>Global_intensity</th>\n",
       "      <th>Sub_metering_1</th>\n",
       "      <th>Sub_metering_2</th>\n",
       "      <th>Sub_metering_3</th>\n",
       "    </tr>\n",
       "  </thead>\n",
       "  <tbody>\n",
       "    <tr>\n",
       "      <th>count</th>\n",
       "      <td>2.568690e+05</td>\n",
       "      <td>2.568690e+05</td>\n",
       "      <td>2.568690e+05</td>\n",
       "      <td>2.568690e+05</td>\n",
       "      <td>2.568690e+05</td>\n",
       "      <td>2.568690e+05</td>\n",
       "      <td>2.568690e+05</td>\n",
       "    </tr>\n",
       "    <tr>\n",
       "      <th>mean</th>\n",
       "      <td>-2.283748e-16</td>\n",
       "      <td>-1.006885e-16</td>\n",
       "      <td>3.677011e-15</td>\n",
       "      <td>1.681830e-17</td>\n",
       "      <td>-2.080158e-17</td>\n",
       "      <td>-2.367840e-17</td>\n",
       "      <td>8.696831e-17</td>\n",
       "    </tr>\n",
       "    <tr>\n",
       "      <th>std</th>\n",
       "      <td>1.000002e+00</td>\n",
       "      <td>1.000002e+00</td>\n",
       "      <td>1.000002e+00</td>\n",
       "      <td>1.000002e+00</td>\n",
       "      <td>1.000002e+00</td>\n",
       "      <td>1.000002e+00</td>\n",
       "      <td>1.000002e+00</td>\n",
       "    </tr>\n",
       "    <tr>\n",
       "      <th>min</th>\n",
       "      <td>-9.163219e-01</td>\n",
       "      <td>-1.105989e+00</td>\n",
       "      <td>-4.375150e+00</td>\n",
       "      <td>-9.150456e-01</td>\n",
       "      <td>-1.987307e-01</td>\n",
       "      <td>-2.519262e-01</td>\n",
       "      <td>-7.123541e-01</td>\n",
       "    </tr>\n",
       "    <tr>\n",
       "      <th>25%</th>\n",
       "      <td>-7.352468e-01</td>\n",
       "      <td>-1.105989e+00</td>\n",
       "      <td>-7.122552e-01</td>\n",
       "      <td>-7.150249e-01</td>\n",
       "      <td>-1.987307e-01</td>\n",
       "      <td>-2.519262e-01</td>\n",
       "      <td>-7.123541e-01</td>\n",
       "    </tr>\n",
       "    <tr>\n",
       "      <th>50%</th>\n",
       "      <td>-5.084798e-01</td>\n",
       "      <td>-1.763511e-01</td>\n",
       "      <td>1.116179e-01</td>\n",
       "      <td>-4.750001e-01</td>\n",
       "      <td>-1.987307e-01</td>\n",
       "      <td>-2.519262e-01</td>\n",
       "      <td>-7.123541e-01</td>\n",
       "    </tr>\n",
       "    <tr>\n",
       "      <th>75%</th>\n",
       "      <td>3.732038e-01</td>\n",
       "      <td>6.281435e-01</td>\n",
       "      <td>7.239560e-01</td>\n",
       "      <td>3.650867e-01</td>\n",
       "      <td>-1.987307e-01</td>\n",
       "      <td>-1.011273e-01</td>\n",
       "      <td>1.364186e+00</td>\n",
       "    </tr>\n",
       "    <tr>\n",
       "      <th>max</th>\n",
       "      <td>8.042666e+00</td>\n",
       "      <td>9.155786e+00</td>\n",
       "      <td>3.251242e+00</td>\n",
       "      <td>8.285905e+00</td>\n",
       "      <td>1.143445e+01</td>\n",
       "      <td>1.151039e+01</td>\n",
       "      <td>1.730635e+00</td>\n",
       "    </tr>\n",
       "  </tbody>\n",
       "</table>\n",
       "</div>"
      ],
      "text/plain": [
       "       Global_active_power  Global_reactive_power       Voltage  \\\n",
       "count         2.568690e+05           2.568690e+05  2.568690e+05   \n",
       "mean         -2.283748e-16          -1.006885e-16  3.677011e-15   \n",
       "std           1.000002e+00           1.000002e+00  1.000002e+00   \n",
       "min          -9.163219e-01          -1.105989e+00 -4.375150e+00   \n",
       "25%          -7.352468e-01          -1.105989e+00 -7.122552e-01   \n",
       "50%          -5.084798e-01          -1.763511e-01  1.116179e-01   \n",
       "75%           3.732038e-01           6.281435e-01  7.239560e-01   \n",
       "max           8.042666e+00           9.155786e+00  3.251242e+00   \n",
       "\n",
       "       Global_intensity  Sub_metering_1  Sub_metering_2  Sub_metering_3  \n",
       "count      2.568690e+05    2.568690e+05    2.568690e+05    2.568690e+05  \n",
       "mean       1.681830e-17   -2.080158e-17   -2.367840e-17    8.696831e-17  \n",
       "std        1.000002e+00    1.000002e+00    1.000002e+00    1.000002e+00  \n",
       "min       -9.150456e-01   -1.987307e-01   -2.519262e-01   -7.123541e-01  \n",
       "25%       -7.150249e-01   -1.987307e-01   -2.519262e-01   -7.123541e-01  \n",
       "50%       -4.750001e-01   -1.987307e-01   -2.519262e-01   -7.123541e-01  \n",
       "75%        3.650867e-01   -1.987307e-01   -1.011273e-01    1.364186e+00  \n",
       "max        8.285905e+00    1.143445e+01    1.151039e+01    1.730635e+00  "
      ]
     },
     "execution_count": 19,
     "metadata": {},
     "output_type": "execute_result"
    }
   ],
   "source": [
    "df_no_time_scaled.describe()"
   ]
  },
  {
   "cell_type": "markdown",
   "metadata": {},
   "source": [
    "### 1.3. Extraer la variable que se quiere predecir"
   ]
  },
  {
   "cell_type": "code",
   "execution_count": null,
   "metadata": {},
   "outputs": [],
   "source": [
    "# Convertir las columnas a tipo numérico\n",
    "df_no_time_scaled = df_no_time_scaled.apply(pd.to_numeric, errors='coerce')\n",
    "df_no_time_scaled['Global_apparent_power'] = np.sqrt(df_no_time_scaled['Global_active_power']**2 + df_no_time_scaled['Global_reactive_power']**2)\n",
    "df_no_time_scaled = df_no_time_scaled.drop(columns=['Global_active_power', 'Global_reactive_power'])"
   ]
  },
  {
   "cell_type": "code",
   "execution_count": null,
   "metadata": {},
   "outputs": [],
   "source": [
    "df_no_time_scaled.describe()"
   ]
  },
  {
   "cell_type": "markdown",
   "metadata": {},
   "source": [
    "### 1.3. Análisis de correlación de las variables"
   ]
  },
  {
   "cell_type": "code",
   "execution_count": null,
   "metadata": {},
   "outputs": [
    {
     "name": "stdout",
     "output_type": "stream",
     "text": [
      "<class 'pandas.core.frame.DataFrame'>\n",
      "RangeIndex: 256869 entries, 0 to 256868\n",
      "Data columns (total 6 columns):\n",
      " #   Column                 Non-Null Count   Dtype  \n",
      "---  ------                 --------------   -----  \n",
      " 0   Voltage                256869 non-null  float64\n",
      " 1   Global_intensity       256869 non-null  float64\n",
      " 2   Sub_metering_1         256869 non-null  float64\n",
      " 3   Sub_metering_2         256869 non-null  float64\n",
      " 4   Sub_metering_3         256869 non-null  float64\n",
      " 5   Global_apparent_power  256869 non-null  float64\n",
      "dtypes: float64(6)\n",
      "memory usage: 11.8 MB\n",
      "None\n"
     ]
    },
    {
     "data": {
      "image/png": "[encoded data removed]",
      "text/plain": [
       "<Figure size 640x480 with 2 Axes>"
      ]
     },
     "metadata": {},
     "output_type": "display_data"
    }
   ],
   "source": [
    "# Calcular la matriz de correlación\n",
    "correlation_matrix = df_no_time_scaled.corr()\n",
    "\n",
    "# Mostrar la matriz de correlación\n",
    "print(df_no_time_scaled.info())\n",
    "\n",
    "# Visualizar la matriz de correlación usando un mapa de calor\n",
    "plt.figure()\n",
    "sns.heatmap(correlation_matrix, annot=True, cmap='coolwarm', fmt='.4f')\n",
    "plt.title('Matriz de Correlación')\n",
    "plt.show()"
   ]
  },
  {
   "cell_type": "markdown",
   "metadata": {},
   "source": [
    "El análisis de correlación muestra como la intensidad de corriente tiene una correlacion positiva muy fuerte con la potencia aparente global."
   ]
  },
  {
   "cell_type": "markdown",
   "metadata": {},
   "source": [
    "### 1.3. Visualización de los datos: histograma y box-plot"
   ]
  },
  {
   "cell_type": "code",
   "execution_count": null,
   "metadata": {},
   "outputs": [],
   "source": [
    "# Crear histogramas para cada variable\n",
    "df_no_time.hist(bins=100, figsize=(20, 7), layout=(2, 4), grid=False)\n",
    "plt.suptitle('Histogramas de las Variables', fontsize=13)\n",
    "plt.show()\n",
    "\n",
    "# Crear boxplots para cada variable\n",
    "plt.figure(figsize=(20, 7))\n",
    "for i, column in enumerate(df_no_time.columns, 1):\n",
    "    plt.subplot(2, 4, i)\n",
    "    sns.boxplot(y=df_no_time[column])\n",
    "    plt.title(f'Boxplot de {column}')\n",
    "plt.tight_layout()\n",
    "plt.suptitle('Boxplots de las Variables', y=1.1, fontsize=16)\n",
    "plt.show()"
   ]
  },
  {
   "cell_type": "markdown",
   "metadata": {},
   "source": [
    "(...)"
   ]
  },
  {
   "cell_type": "markdown",
   "metadata": {},
   "source": [
    "### 1.4. Análisis de normalidad de las variables"
   ]
  },
  {
   "cell_type": "code",
   "execution_count": null,
   "metadata": {},
   "outputs": [],
   "source": [
    "from scipy.stats import kstest\n",
    "\n",
    "# Realizar el test de Kolmogorov-Smirnov para cada variable\n",
    "for column in df_no_time.columns:\n",
    "    statistic, p_value = kstest(df_no_time[column], 'norm')\n",
    "    print(f'Variable: {column}')\n",
    "    print(f'Estadístico de prueba: {statistic}')\n",
    "    print(f'Valor p: {p_value}')\n",
    "    print('-------------------------')"
   ]
  },
  {
   "cell_type": "markdown",
   "metadata": {},
   "source": [
    "De esta forma, los valores p de cada una de las variables de 0.0, por lo que se rechaza la hipotesis nula y se concluye que los datos no siguen una distribución normal."
   ]
  },
  {
   "cell_type": "markdown",
   "metadata": {},
   "source": [
    "### 1.5. Análisis de componentes principales (ACP)"
   ]
  },
  {
   "cell_type": "code",
   "execution_count": null,
   "metadata": {},
   "outputs": [],
   "source": [
    "from sklearn.decomposition import PCA\n",
    "from sklearn.preprocessing import StandardScaler\n",
    "\n",
    "# Estandarizar los datos\n",
    "scaler = StandardScaler()\n",
    "df_no_time_scaled = scaler.fit_transform(df_no_time)\n",
    "\n",
    "# Crear el modelo PCA y ajustar los datos\n",
    "pca = PCA(n_components=2)  # Puedes cambiar el número de componentes principales\n",
    "principal_components = pca.fit_transform(df_no_time_scaled)\n",
    "\n",
    "# Crear un DataFrame con los componentes principales\n",
    "df_pca = pd.DataFrame(data=principal_components, columns=['PC1', 'PC2'])\n",
    "\n",
    "# Añadir las etiquetas originales\n",
    "df_pca['Global_apparent_power'] = df_no_time['Global_apparent_power'].values\n",
    "\n",
    "# Mostrar la varianza explicada por cada componente principal\n",
    "print('Varianza explicada por cada componente principal:', pca.explained_variance_ratio_)"
   ]
  },
  {
   "cell_type": "code",
   "execution_count": null,
   "metadata": {},
   "outputs": [],
   "source": [
    "# Crear el biplot\n",
    "def biplot(df_pca, pca, df_no_time_scaled):\n",
    "    plt.figure(figsize=(10, 7))\n",
    "    \n",
    "    # Scatter plot de los componentes principales\n",
    "    sns.scatterplot(x='PC1', y='PC2', hue='Global_apparent_power', data=df_pca, palette='viridis')\n",
    "    \n",
    "    # Añadir las flechas de las variables originales\n",
    "    for i, (var, pc1, pc2) in enumerate(zip(df_no_time.columns, pca.components_[0], pca.components_[1])):\n",
    "        plt.arrow(0, 0, pc1 * 20., pc2 * 20., color='r', alpha=0.5)\n",
    "        plt.text(pc1 * (20.5), pc2 * (20.5), var, color='k', ha='center', va='center')\n",
    "    \n",
    "    plt.xlabel('Componente Principal 1')\n",
    "    plt.ylabel('Componente Principal 2')\n",
    "    plt.title('Biplot de Componentes Principales')\n",
    "    plt.grid()\n",
    "    plt.show()\n",
    "\n",
    "# Llamar a la función biplot\n",
    "biplot(df_pca, pca, df_no_time_scaled)"
   ]
  }
 ],
 "metadata": {
  "kernelspec": {
   "display_name": "base",
   "language": "python",
   "name": "python3"
  },
  "language_info": {
   "codemirror_mode": {
    "name": "ipython",
    "version": 3
   },
   "file_extension": ".py",
   "mimetype": "text/x-python",
   "name": "python",
   "nbconvert_exporter": "python",
   "pygments_lexer": "ipython3",
   "version": "3.12.4"
  }
 },
 "nbformat": 4,
 "nbformat_minor": 2
}
